{
 "cells": [
  {
   "cell_type": "markdown",
   "metadata": {
    "toc": true
   },
   "source": [
    "<h1>Содержание<span class=\"tocSkip\"></span></h1>\n",
    "<div class=\"toc\"><ul class=\"toc-item\"><li><span><a href=\"#Описание-проекта.\" data-toc-modified-id=\"Описание-проекта.-1\"><span class=\"toc-item-num\">1&nbsp;&nbsp;</span>Описание проекта.</a></span></li><li><span><a href=\"#Подготовка-данных.\" data-toc-modified-id=\"Подготовка-данных.-2\"><span class=\"toc-item-num\">2&nbsp;&nbsp;</span>Подготовка данных.</a></span><ul class=\"toc-item\"><li><span><a href=\"#Начальное-заключение:\" data-toc-modified-id=\"Начальное-заключение:-2.1\"><span class=\"toc-item-num\">2.1&nbsp;&nbsp;</span>Начальное заключение:</a></span></li></ul></li><li><span><a href=\"#Моделиривание-без-учета-дисбаланса.\" data-toc-modified-id=\"Моделиривание-без-учета-дисбаланса.-3\"><span class=\"toc-item-num\">3&nbsp;&nbsp;</span>Моделиривание без учета дисбаланса.</a></span><ul class=\"toc-item\"><li><span><a href=\"#Логистическая-регрессия.\" data-toc-modified-id=\"Логистическая-регрессия.-3.1\"><span class=\"toc-item-num\">3.1&nbsp;&nbsp;</span>Логистическая регрессия.</a></span></li><li><span><a href=\"#Дерево-решений.\" data-toc-modified-id=\"Дерево-решений.-3.2\"><span class=\"toc-item-num\">3.2&nbsp;&nbsp;</span>Дерево решений.</a></span></li><li><span><a href=\"#Случайный-лес.\" data-toc-modified-id=\"Случайный-лес.-3.3\"><span class=\"toc-item-num\">3.3&nbsp;&nbsp;</span>Случайный лес.</a></span></li></ul></li><li><span><a href=\"#Моделирование-с-учетом-дисбаланса.\" data-toc-modified-id=\"Моделирование-с-учетом-дисбаланса.-4\"><span class=\"toc-item-num\">4&nbsp;&nbsp;</span>Моделирование с учетом дисбаланса.</a></span><ul class=\"toc-item\"><li><span><a href=\"#Взвешивание-классов.\" data-toc-modified-id=\"Взвешивание-классов.-4.1\"><span class=\"toc-item-num\">4.1&nbsp;&nbsp;</span>Взвешивание классов.</a></span></li><li><span><a href=\"#Увеличение-выборки.\" data-toc-modified-id=\"Увеличение-выборки.-4.2\"><span class=\"toc-item-num\">4.2&nbsp;&nbsp;</span>Увеличение выборки.</a></span></li><li><span><a href=\"#Уменьшение-выборки.\" data-toc-modified-id=\"Уменьшение-выборки.-4.3\"><span class=\"toc-item-num\">4.3&nbsp;&nbsp;</span>Уменьшение выборки.</a></span></li></ul></li><li><span><a href=\"#Финальное-тестирование.\" data-toc-modified-id=\"Финальное-тестирование.-5\"><span class=\"toc-item-num\">5&nbsp;&nbsp;</span>Финальное тестирование.</a></span></li><li><span><a href=\"#Выводы.\" data-toc-modified-id=\"Выводы.-6\"><span class=\"toc-item-num\">6&nbsp;&nbsp;</span>Выводы.</a></span></li></ul></div>"
   ]
  },
  {
   "cell_type": "markdown",
   "metadata": {},
   "source": [
    "# Отток клиентов"
   ]
  },
  {
   "cell_type": "markdown",
   "metadata": {},
   "source": [
    "Из «Бета-Банка» стали уходить клиенты. Каждый месяц. Немного, но заметно. Банковские маркетологи посчитали: сохранять текущих клиентов дешевле, чем привлекать новых.\n",
    "\n",
    "Нужно спрогнозировать, уйдёт клиент из банка в ближайшее время или нет. Вам предоставлены исторические данные о поведении клиентов и расторжении договоров с банком. \n",
    "\n",
    "Постройте модель с предельно большим значением *F1*-меры. Чтобы сдать проект успешно, нужно довести метрику до 0.59. Проверьте *F1*-меру на тестовой выборке самостоятельно.\n",
    "\n",
    "Дополнительно измеряйте *AUC-ROC*, сравнивайте её значение с *F1*-мерой.\n",
    "\n",
    "Источник данных: [https://www.kaggle.com/barelydedicated/bank-customer-churn-modeling](https://www.kaggle.com/barelydedicated/bank-customer-churn-modeling)"
   ]
  },
  {
   "cell_type": "markdown",
   "metadata": {},
   "source": [
    "## Описание проекта."
   ]
  },
  {
   "cell_type": "markdown",
   "metadata": {},
   "source": [
    "Заказчик - «Бета-Банк». Необходимо провести анализ клиентов для создания системы предсказания, покинет ли клиент данный банк в ближайшее время или нет. Такая информация позволит подобрать подходящий способ удержать клиента в данном банке - по мнению банковских маркетологов сохранять текущих клиентов выйдет для банка дешевле, чем привлекать новых.  \n",
    "\n",
    "Входные данные - исторические данные о поведении клиентов и расторжении договоров с банком.  \n",
    "\n",
    "Основная задача - построить модель для задачи классификации, которая будет прогнозировать, уйдет ли клиент из банка в ближайшее время или нет. Необходимое условие: значение показателя F1-меры должно превышать порог в 0.59.  \n",
    "\n",
    "Признаки:  \n",
    "\n",
    "* RowNumber — индекс строки в данных\n",
    "* CustomerId — уникальный идентификатор клиента\n",
    "* Surname — фамилия\n",
    "* CreditScore — кредитный рейтинг\n",
    "* Geography — страна проживания\n",
    "* Gender — пол\n",
    "* Age — возраст\n",
    "* Tenure — сколько лет человек является клиентом банка\n",
    "* Balance — баланс на счёте\n",
    "* NumOfProducts — количество продуктов банка, используемых клиентом\n",
    "* HasCrCard — наличие кредитной карты\n",
    "* IsActiveMember — активность клиента\n",
    "* EstimatedSalary — предполагаемая зарплата\n",
    "\n",
    "Целевой признак:  \n",
    "\n",
    "* Exited — факт ухода клиента"
   ]
  },
  {
   "cell_type": "markdown",
   "metadata": {},
   "source": [
    "## Подготовка данных."
   ]
  },
  {
   "cell_type": "code",
   "execution_count": 1,
   "metadata": {},
   "outputs": [],
   "source": [
    "import pandas as pd\n",
    "import seaborn as sns\n",
    "import matplotlib.pyplot as plt\n",
    "from sklearn.model_selection import train_test_split\n",
    "from sklearn.tree import DecisionTreeClassifier\n",
    "from sklearn.ensemble import RandomForestClassifier\n",
    "from sklearn.linear_model import LogisticRegression\n",
    "from sklearn.metrics import roc_auc_score\n",
    "from sklearn.dummy import DummyClassifier\n",
    "from sklearn.metrics import f1_score\n",
    "from sklearn.preprocessing import StandardScaler\n",
    "from sklearn.model_selection import GridSearchCV\n",
    "from sklearn.utils import shuffle\n",
    "from sklearn.model_selection import cross_validate\n",
    "from sklearn.preprocessing import OneHotEncoder\n",
    "from sklearn.utils import resample\n",
    "import warnings\n",
    "warnings.filterwarnings('ignore')"
   ]
  },
  {
   "cell_type": "code",
   "execution_count": 2,
   "metadata": {},
   "outputs": [],
   "source": [
    "try:\n",
    "    data = pd.read_csv('/datasets/Churn.csv')\n",
    "except:\n",
    "    data = pd.read_csv('Churn.csv')"
   ]
  },
  {
   "cell_type": "code",
   "execution_count": 3,
   "metadata": {},
   "outputs": [
    {
     "name": "stdout",
     "output_type": "stream",
     "text": [
      "<class 'pandas.core.frame.DataFrame'>\n",
      "RangeIndex: 10000 entries, 0 to 9999\n",
      "Data columns (total 14 columns):\n",
      " #   Column           Non-Null Count  Dtype  \n",
      "---  ------           --------------  -----  \n",
      " 0   RowNumber        10000 non-null  int64  \n",
      " 1   CustomerId       10000 non-null  int64  \n",
      " 2   Surname          10000 non-null  object \n",
      " 3   CreditScore      10000 non-null  int64  \n",
      " 4   Geography        10000 non-null  object \n",
      " 5   Gender           10000 non-null  object \n",
      " 6   Age              10000 non-null  int64  \n",
      " 7   Tenure           9091 non-null   float64\n",
      " 8   Balance          10000 non-null  float64\n",
      " 9   NumOfProducts    10000 non-null  int64  \n",
      " 10  HasCrCard        10000 non-null  int64  \n",
      " 11  IsActiveMember   10000 non-null  int64  \n",
      " 12  EstimatedSalary  10000 non-null  float64\n",
      " 13  Exited           10000 non-null  int64  \n",
      "dtypes: float64(3), int64(8), object(3)\n",
      "memory usage: 1.1+ MB\n"
     ]
    }
   ],
   "source": [
    "data.info()"
   ]
  },
  {
   "cell_type": "code",
   "execution_count": 4,
   "metadata": {},
   "outputs": [
    {
     "data": {
      "text/html": [
       "<div>\n",
       "<style scoped>\n",
       "    .dataframe tbody tr th:only-of-type {\n",
       "        vertical-align: middle;\n",
       "    }\n",
       "\n",
       "    .dataframe tbody tr th {\n",
       "        vertical-align: top;\n",
       "    }\n",
       "\n",
       "    .dataframe thead th {\n",
       "        text-align: right;\n",
       "    }\n",
       "</style>\n",
       "<table border=\"1\" class=\"dataframe\">\n",
       "  <thead>\n",
       "    <tr style=\"text-align: right;\">\n",
       "      <th></th>\n",
       "      <th>RowNumber</th>\n",
       "      <th>CustomerId</th>\n",
       "      <th>Surname</th>\n",
       "      <th>CreditScore</th>\n",
       "      <th>Geography</th>\n",
       "      <th>Gender</th>\n",
       "      <th>Age</th>\n",
       "      <th>Tenure</th>\n",
       "      <th>Balance</th>\n",
       "      <th>NumOfProducts</th>\n",
       "      <th>HasCrCard</th>\n",
       "      <th>IsActiveMember</th>\n",
       "      <th>EstimatedSalary</th>\n",
       "      <th>Exited</th>\n",
       "    </tr>\n",
       "  </thead>\n",
       "  <tbody>\n",
       "    <tr>\n",
       "      <th>0</th>\n",
       "      <td>1</td>\n",
       "      <td>15634602</td>\n",
       "      <td>Hargrave</td>\n",
       "      <td>619</td>\n",
       "      <td>France</td>\n",
       "      <td>Female</td>\n",
       "      <td>42</td>\n",
       "      <td>2.0</td>\n",
       "      <td>0.00</td>\n",
       "      <td>1</td>\n",
       "      <td>1</td>\n",
       "      <td>1</td>\n",
       "      <td>101348.88</td>\n",
       "      <td>1</td>\n",
       "    </tr>\n",
       "    <tr>\n",
       "      <th>1</th>\n",
       "      <td>2</td>\n",
       "      <td>15647311</td>\n",
       "      <td>Hill</td>\n",
       "      <td>608</td>\n",
       "      <td>Spain</td>\n",
       "      <td>Female</td>\n",
       "      <td>41</td>\n",
       "      <td>1.0</td>\n",
       "      <td>83807.86</td>\n",
       "      <td>1</td>\n",
       "      <td>0</td>\n",
       "      <td>1</td>\n",
       "      <td>112542.58</td>\n",
       "      <td>0</td>\n",
       "    </tr>\n",
       "    <tr>\n",
       "      <th>2</th>\n",
       "      <td>3</td>\n",
       "      <td>15619304</td>\n",
       "      <td>Onio</td>\n",
       "      <td>502</td>\n",
       "      <td>France</td>\n",
       "      <td>Female</td>\n",
       "      <td>42</td>\n",
       "      <td>8.0</td>\n",
       "      <td>159660.80</td>\n",
       "      <td>3</td>\n",
       "      <td>1</td>\n",
       "      <td>0</td>\n",
       "      <td>113931.57</td>\n",
       "      <td>1</td>\n",
       "    </tr>\n",
       "    <tr>\n",
       "      <th>3</th>\n",
       "      <td>4</td>\n",
       "      <td>15701354</td>\n",
       "      <td>Boni</td>\n",
       "      <td>699</td>\n",
       "      <td>France</td>\n",
       "      <td>Female</td>\n",
       "      <td>39</td>\n",
       "      <td>1.0</td>\n",
       "      <td>0.00</td>\n",
       "      <td>2</td>\n",
       "      <td>0</td>\n",
       "      <td>0</td>\n",
       "      <td>93826.63</td>\n",
       "      <td>0</td>\n",
       "    </tr>\n",
       "    <tr>\n",
       "      <th>4</th>\n",
       "      <td>5</td>\n",
       "      <td>15737888</td>\n",
       "      <td>Mitchell</td>\n",
       "      <td>850</td>\n",
       "      <td>Spain</td>\n",
       "      <td>Female</td>\n",
       "      <td>43</td>\n",
       "      <td>2.0</td>\n",
       "      <td>125510.82</td>\n",
       "      <td>1</td>\n",
       "      <td>1</td>\n",
       "      <td>1</td>\n",
       "      <td>79084.10</td>\n",
       "      <td>0</td>\n",
       "    </tr>\n",
       "    <tr>\n",
       "      <th>5</th>\n",
       "      <td>6</td>\n",
       "      <td>15574012</td>\n",
       "      <td>Chu</td>\n",
       "      <td>645</td>\n",
       "      <td>Spain</td>\n",
       "      <td>Male</td>\n",
       "      <td>44</td>\n",
       "      <td>8.0</td>\n",
       "      <td>113755.78</td>\n",
       "      <td>2</td>\n",
       "      <td>1</td>\n",
       "      <td>0</td>\n",
       "      <td>149756.71</td>\n",
       "      <td>1</td>\n",
       "    </tr>\n",
       "    <tr>\n",
       "      <th>6</th>\n",
       "      <td>7</td>\n",
       "      <td>15592531</td>\n",
       "      <td>Bartlett</td>\n",
       "      <td>822</td>\n",
       "      <td>France</td>\n",
       "      <td>Male</td>\n",
       "      <td>50</td>\n",
       "      <td>7.0</td>\n",
       "      <td>0.00</td>\n",
       "      <td>2</td>\n",
       "      <td>1</td>\n",
       "      <td>1</td>\n",
       "      <td>10062.80</td>\n",
       "      <td>0</td>\n",
       "    </tr>\n",
       "    <tr>\n",
       "      <th>7</th>\n",
       "      <td>8</td>\n",
       "      <td>15656148</td>\n",
       "      <td>Obinna</td>\n",
       "      <td>376</td>\n",
       "      <td>Germany</td>\n",
       "      <td>Female</td>\n",
       "      <td>29</td>\n",
       "      <td>4.0</td>\n",
       "      <td>115046.74</td>\n",
       "      <td>4</td>\n",
       "      <td>1</td>\n",
       "      <td>0</td>\n",
       "      <td>119346.88</td>\n",
       "      <td>1</td>\n",
       "    </tr>\n",
       "    <tr>\n",
       "      <th>8</th>\n",
       "      <td>9</td>\n",
       "      <td>15792365</td>\n",
       "      <td>He</td>\n",
       "      <td>501</td>\n",
       "      <td>France</td>\n",
       "      <td>Male</td>\n",
       "      <td>44</td>\n",
       "      <td>4.0</td>\n",
       "      <td>142051.07</td>\n",
       "      <td>2</td>\n",
       "      <td>0</td>\n",
       "      <td>1</td>\n",
       "      <td>74940.50</td>\n",
       "      <td>0</td>\n",
       "    </tr>\n",
       "    <tr>\n",
       "      <th>9</th>\n",
       "      <td>10</td>\n",
       "      <td>15592389</td>\n",
       "      <td>H?</td>\n",
       "      <td>684</td>\n",
       "      <td>France</td>\n",
       "      <td>Male</td>\n",
       "      <td>27</td>\n",
       "      <td>2.0</td>\n",
       "      <td>134603.88</td>\n",
       "      <td>1</td>\n",
       "      <td>1</td>\n",
       "      <td>1</td>\n",
       "      <td>71725.73</td>\n",
       "      <td>0</td>\n",
       "    </tr>\n",
       "  </tbody>\n",
       "</table>\n",
       "</div>"
      ],
      "text/plain": [
       "   RowNumber  CustomerId   Surname  CreditScore Geography  Gender  Age  \\\n",
       "0          1    15634602  Hargrave          619    France  Female   42   \n",
       "1          2    15647311      Hill          608     Spain  Female   41   \n",
       "2          3    15619304      Onio          502    France  Female   42   \n",
       "3          4    15701354      Boni          699    France  Female   39   \n",
       "4          5    15737888  Mitchell          850     Spain  Female   43   \n",
       "5          6    15574012       Chu          645     Spain    Male   44   \n",
       "6          7    15592531  Bartlett          822    France    Male   50   \n",
       "7          8    15656148    Obinna          376   Germany  Female   29   \n",
       "8          9    15792365        He          501    France    Male   44   \n",
       "9         10    15592389        H?          684    France    Male   27   \n",
       "\n",
       "   Tenure    Balance  NumOfProducts  HasCrCard  IsActiveMember  \\\n",
       "0     2.0       0.00              1          1               1   \n",
       "1     1.0   83807.86              1          0               1   \n",
       "2     8.0  159660.80              3          1               0   \n",
       "3     1.0       0.00              2          0               0   \n",
       "4     2.0  125510.82              1          1               1   \n",
       "5     8.0  113755.78              2          1               0   \n",
       "6     7.0       0.00              2          1               1   \n",
       "7     4.0  115046.74              4          1               0   \n",
       "8     4.0  142051.07              2          0               1   \n",
       "9     2.0  134603.88              1          1               1   \n",
       "\n",
       "   EstimatedSalary  Exited  \n",
       "0        101348.88       1  \n",
       "1        112542.58       0  \n",
       "2        113931.57       1  \n",
       "3         93826.63       0  \n",
       "4         79084.10       0  \n",
       "5        149756.71       1  \n",
       "6         10062.80       0  \n",
       "7        119346.88       1  \n",
       "8         74940.50       0  \n",
       "9         71725.73       0  "
      ]
     },
     "execution_count": 4,
     "metadata": {},
     "output_type": "execute_result"
    }
   ],
   "source": [
    "data.head(10)"
   ]
  },
  {
   "cell_type": "code",
   "execution_count": 5,
   "metadata": {
    "scrolled": false
   },
   "outputs": [
    {
     "data": {
      "image/png": "[encoded data removed]",
      "text/plain": [
       "<Figure size 720x720 with 12 Axes>"
      ]
     },
     "metadata": {
      "needs_background": "light"
     },
     "output_type": "display_data"
    }
   ],
   "source": [
    "data.hist(figsize=(10, 10), bins = 50, color='black')\n",
    "plt.show()"
   ]
  },
  {
   "cell_type": "markdown",
   "metadata": {},
   "source": [
    "### Начальное заключение:\n",
    "\n",
    "Большая часть переменных в нашем наборе данных представлена числовыми типами: float64 и int64, но также есть три переменные с типом object. Для дальнейшего моделирования нам нужно решить, как обработать эти переменные, так как их нельзя просто использовать в исходном виде. \n",
    "\n",
    "Первая переменная, фамилия клиента, не содержит достаточно информации, чтобы быть полезной при моделировании поведения клиентов. Поэтому мы решили удалить эту характеристику из нашего набора данных. Другие две переменные - пол и регион проживания клиента - могут оказывать влияние на поведение клиента и будут ключевыми при моделировании. Мы закодируем их при помощи метода One-Hot-Encoding, чтобы сделать их годными для использования в модели. \n",
    "\n",
    "Также мы обнаружили наличие пропущенных данных в одной из характеристик - количество лет, в течение которых клиент пользовался услугами банка."
   ]
  },
  {
   "cell_type": "markdown",
   "metadata": {},
   "source": [
    "Начнем с заполнения пропусков. Выведем дискриптивную статистику по переменной Tenure. Позже, после заполнения, мы сравним новые данные, чтобы быть уверенными, что мы не слишком исказили выборку."
   ]
  },
  {
   "cell_type": "code",
   "execution_count": 6,
   "metadata": {},
   "outputs": [
    {
     "name": "stdout",
     "output_type": "stream",
     "text": [
      "count    9091.000000\n",
      "mean        4.997690\n",
      "std         2.894723\n",
      "min         0.000000\n",
      "25%         2.000000\n",
      "50%         5.000000\n",
      "75%         7.000000\n",
      "max        10.000000\n",
      "Name: Tenure, dtype: float64\n"
     ]
    }
   ],
   "source": [
    "print(data['Tenure'].describe())\n",
    "data['Tenure'] = data['Tenure'].fillna(-1)"
   ]
  },
  {
   "cell_type": "markdown",
   "metadata": {},
   "source": [
    "При обработке наших данных мы заметили наличие пропущенных значений у одной из характеристик, и мы решили использовать информацию о возрасте клиента для заполнения этих пропусков. \n",
    "\n",
    "Для этого мы построили сводную таблицу, в которой вычисляется медианное значение периода времени, в течение которого клиенты нашего банка остаются его клиентами, в зависимости от возраста. Затем мы создали функцию, которая будет возвращать полученное медианное значение для наблюдений с пропущенными значениями данной характеристики. \n",
    "\n",
    "Такой подход позволяет заполнить пропущенные значения на основе подобной информации, а именно сравнения продолжительности оставания клиента в банке в зависимости от его возраста. Это помогает сохранить как можно больше информации, чтобы у нас были достоверные данные для обучения наших моделей."
   ]
  },
  {
   "cell_type": "code",
   "execution_count": 7,
   "metadata": {},
   "outputs": [
    {
     "data": {
      "text/html": [
       "<div>\n",
       "<style scoped>\n",
       "    .dataframe tbody tr th:only-of-type {\n",
       "        vertical-align: middle;\n",
       "    }\n",
       "\n",
       "    .dataframe tbody tr th {\n",
       "        vertical-align: top;\n",
       "    }\n",
       "\n",
       "    .dataframe thead th {\n",
       "        text-align: right;\n",
       "    }\n",
       "</style>\n",
       "<table border=\"1\" class=\"dataframe\">\n",
       "  <thead>\n",
       "    <tr style=\"text-align: right;\">\n",
       "      <th></th>\n",
       "      <th>Age</th>\n",
       "      <th>Median</th>\n",
       "    </tr>\n",
       "  </thead>\n",
       "  <tbody>\n",
       "    <tr>\n",
       "      <th>0</th>\n",
       "      <td>18</td>\n",
       "      <td>4.0</td>\n",
       "    </tr>\n",
       "    <tr>\n",
       "      <th>1</th>\n",
       "      <td>19</td>\n",
       "      <td>5.0</td>\n",
       "    </tr>\n",
       "    <tr>\n",
       "      <th>2</th>\n",
       "      <td>20</td>\n",
       "      <td>4.0</td>\n",
       "    </tr>\n",
       "    <tr>\n",
       "      <th>3</th>\n",
       "      <td>21</td>\n",
       "      <td>4.0</td>\n",
       "    </tr>\n",
       "    <tr>\n",
       "      <th>4</th>\n",
       "      <td>22</td>\n",
       "      <td>5.0</td>\n",
       "    </tr>\n",
       "  </tbody>\n",
       "</table>\n",
       "</div>"
      ],
      "text/plain": [
       "   Age  Median\n",
       "0   18     4.0\n",
       "1   19     5.0\n",
       "2   20     4.0\n",
       "3   21     4.0\n",
       "4   22     5.0"
      ]
     },
     "execution_count": 7,
     "metadata": {},
     "output_type": "execute_result"
    }
   ],
   "source": [
    "ten_piv = data.pivot_table(index='Age', values = 'Tenure', aggfunc=['median']).reset_index()\n",
    "ten_piv.columns = ['Age', 'Median']\n",
    "ten_piv.head()"
   ]
  },
  {
   "cell_type": "code",
   "execution_count": 8,
   "metadata": {},
   "outputs": [],
   "source": [
    "def tenur_miss(row):\n",
    "    age = row['Age']\n",
    "    tenure = row['Tenure']\n",
    "    if tenure == -1:\n",
    "        for i in range(len(ten_piv)):\n",
    "            if ten_piv['Age'][i] == age:\n",
    "                return ten_piv['Median'][i]\n",
    "    else: return tenure"
   ]
  },
  {
   "cell_type": "code",
   "execution_count": 9,
   "metadata": {},
   "outputs": [],
   "source": [
    "data['Tenure'] = data.apply(tenur_miss, axis=1)"
   ]
  },
  {
   "cell_type": "code",
   "execution_count": 10,
   "metadata": {},
   "outputs": [
    {
     "name": "stdout",
     "output_type": "stream",
     "text": [
      "count    10000.000000\n",
      "mean         4.948700\n",
      "std          2.769609\n",
      "min          0.000000\n",
      "25%          3.000000\n",
      "50%          5.000000\n",
      "75%          7.000000\n",
      "max         10.000000\n",
      "Name: Tenure, dtype: float64\n"
     ]
    }
   ],
   "source": [
    "print(data['Tenure'].describe())"
   ]
  },
  {
   "cell_type": "markdown",
   "metadata": {},
   "source": [
    "Нам удалось заполнить пропущенные значения и при этом значительно не исказить исходные данные перед моделированием.\n",
    "\n",
    "Теперь займемся созданием дамми-категорий. Для этого, прежде всего, удалим переменную, отвечающую за фамилию клиента. После этого создадим сами дамми-переменные, используя встроенные функции."
   ]
  },
  {
   "cell_type": "code",
   "execution_count": 11,
   "metadata": {},
   "outputs": [],
   "source": [
    "del data['Surname']\n",
    "data = pd.get_dummies(data, drop_first=True)"
   ]
  },
  {
   "cell_type": "code",
   "execution_count": 12,
   "metadata": {},
   "outputs": [
    {
     "data": {
      "text/html": [
       "<div>\n",
       "<style scoped>\n",
       "    .dataframe tbody tr th:only-of-type {\n",
       "        vertical-align: middle;\n",
       "    }\n",
       "\n",
       "    .dataframe tbody tr th {\n",
       "        vertical-align: top;\n",
       "    }\n",
       "\n",
       "    .dataframe thead th {\n",
       "        text-align: right;\n",
       "    }\n",
       "</style>\n",
       "<table border=\"1\" class=\"dataframe\">\n",
       "  <thead>\n",
       "    <tr style=\"text-align: right;\">\n",
       "      <th></th>\n",
       "      <th>RowNumber</th>\n",
       "      <th>CustomerId</th>\n",
       "      <th>CreditScore</th>\n",
       "      <th>Age</th>\n",
       "      <th>Tenure</th>\n",
       "      <th>Balance</th>\n",
       "      <th>NumOfProducts</th>\n",
       "      <th>HasCrCard</th>\n",
       "      <th>IsActiveMember</th>\n",
       "      <th>EstimatedSalary</th>\n",
       "      <th>Exited</th>\n",
       "      <th>Geography_Germany</th>\n",
       "      <th>Geography_Spain</th>\n",
       "      <th>Gender_Male</th>\n",
       "    </tr>\n",
       "  </thead>\n",
       "  <tbody>\n",
       "    <tr>\n",
       "      <th>0</th>\n",
       "      <td>1</td>\n",
       "      <td>15634602</td>\n",
       "      <td>619</td>\n",
       "      <td>42</td>\n",
       "      <td>2.0</td>\n",
       "      <td>0.00</td>\n",
       "      <td>1</td>\n",
       "      <td>1</td>\n",
       "      <td>1</td>\n",
       "      <td>101348.88</td>\n",
       "      <td>1</td>\n",
       "      <td>0</td>\n",
       "      <td>0</td>\n",
       "      <td>0</td>\n",
       "    </tr>\n",
       "    <tr>\n",
       "      <th>1</th>\n",
       "      <td>2</td>\n",
       "      <td>15647311</td>\n",
       "      <td>608</td>\n",
       "      <td>41</td>\n",
       "      <td>1.0</td>\n",
       "      <td>83807.86</td>\n",
       "      <td>1</td>\n",
       "      <td>0</td>\n",
       "      <td>1</td>\n",
       "      <td>112542.58</td>\n",
       "      <td>0</td>\n",
       "      <td>0</td>\n",
       "      <td>1</td>\n",
       "      <td>0</td>\n",
       "    </tr>\n",
       "    <tr>\n",
       "      <th>2</th>\n",
       "      <td>3</td>\n",
       "      <td>15619304</td>\n",
       "      <td>502</td>\n",
       "      <td>42</td>\n",
       "      <td>8.0</td>\n",
       "      <td>159660.80</td>\n",
       "      <td>3</td>\n",
       "      <td>1</td>\n",
       "      <td>0</td>\n",
       "      <td>113931.57</td>\n",
       "      <td>1</td>\n",
       "      <td>0</td>\n",
       "      <td>0</td>\n",
       "      <td>0</td>\n",
       "    </tr>\n",
       "    <tr>\n",
       "      <th>3</th>\n",
       "      <td>4</td>\n",
       "      <td>15701354</td>\n",
       "      <td>699</td>\n",
       "      <td>39</td>\n",
       "      <td>1.0</td>\n",
       "      <td>0.00</td>\n",
       "      <td>2</td>\n",
       "      <td>0</td>\n",
       "      <td>0</td>\n",
       "      <td>93826.63</td>\n",
       "      <td>0</td>\n",
       "      <td>0</td>\n",
       "      <td>0</td>\n",
       "      <td>0</td>\n",
       "    </tr>\n",
       "    <tr>\n",
       "      <th>4</th>\n",
       "      <td>5</td>\n",
       "      <td>15737888</td>\n",
       "      <td>850</td>\n",
       "      <td>43</td>\n",
       "      <td>2.0</td>\n",
       "      <td>125510.82</td>\n",
       "      <td>1</td>\n",
       "      <td>1</td>\n",
       "      <td>1</td>\n",
       "      <td>79084.10</td>\n",
       "      <td>0</td>\n",
       "      <td>0</td>\n",
       "      <td>1</td>\n",
       "      <td>0</td>\n",
       "    </tr>\n",
       "  </tbody>\n",
       "</table>\n",
       "</div>"
      ],
      "text/plain": [
       "   RowNumber  CustomerId  CreditScore  Age  Tenure    Balance  NumOfProducts  \\\n",
       "0          1    15634602          619   42     2.0       0.00              1   \n",
       "1          2    15647311          608   41     1.0   83807.86              1   \n",
       "2          3    15619304          502   42     8.0  159660.80              3   \n",
       "3          4    15701354          699   39     1.0       0.00              2   \n",
       "4          5    15737888          850   43     2.0  125510.82              1   \n",
       "\n",
       "   HasCrCard  IsActiveMember  EstimatedSalary  Exited  Geography_Germany  \\\n",
       "0          1               1        101348.88       1                  0   \n",
       "1          0               1        112542.58       0                  0   \n",
       "2          1               0        113931.57       1                  0   \n",
       "3          0               0         93826.63       0                  0   \n",
       "4          1               1         79084.10       0                  0   \n",
       "\n",
       "   Geography_Spain  Gender_Male  \n",
       "0                0            0  \n",
       "1                1            0  \n",
       "2                0            0  \n",
       "3                0            0  \n",
       "4                1            0  "
      ]
     },
     "execution_count": 12,
     "metadata": {},
     "output_type": "execute_result"
    }
   ],
   "source": [
    "data.head()"
   ]
  },
  {
   "cell_type": "markdown",
   "metadata": {},
   "source": [
    "Поскольку в данных присутсвует сильный дисбаланс, в чем мы убедимся далее, — учтем это при разбиении данных на тренировочные и тестовые."
   ]
  },
  {
   "cell_type": "code",
   "execution_count": 13,
   "metadata": {},
   "outputs": [],
   "source": [
    "X_numb = data.copy().drop(['Exited', 'RowNumber', 'CustomerId'], axis=1)\n",
    "y = data[['Exited']]"
   ]
  },
  {
   "cell_type": "code",
   "execution_count": 14,
   "metadata": {},
   "outputs": [],
   "source": [
    "RANDOM_STATE = 9"
   ]
  },
  {
   "cell_type": "code",
   "execution_count": 15,
   "metadata": {},
   "outputs": [],
   "source": [
    "X_train, X_test, y_train, y_test = train_test_split(X_numb, y,\n",
    "                                                  test_size=0.2, \n",
    "                                                  stratify = y,\n",
    "                                                  shuffle = True,\n",
    "                                                  random_state=RANDOM_STATE)"
   ]
  },
  {
   "cell_type": "markdown",
   "metadata": {},
   "source": [
    "Наконец, перейдем к заключительному этапу моделирования - стандартизации численных переменных. Обучим скалер на тренировочной выборке, после чего применим его к тестовым и тренировочным данным."
   ]
  },
  {
   "cell_type": "code",
   "execution_count": 16,
   "metadata": {},
   "outputs": [],
   "source": [
    "numeric = ['CreditScore', 'Age', 'Tenure', 'Balance', 'NumOfProducts', 'EstimatedSalary']"
   ]
  },
  {
   "cell_type": "code",
   "execution_count": 17,
   "metadata": {},
   "outputs": [],
   "source": [
    "scaler = StandardScaler()\n",
    "scaler.fit(X_train[numeric])\n",
    "X_train[numeric] = scaler.transform(X_train[numeric])\n",
    "X_test[numeric] = scaler.transform(X_test[numeric])"
   ]
  },
  {
   "cell_type": "code",
   "execution_count": 18,
   "metadata": {},
   "outputs": [
    {
     "name": "stdout",
     "output_type": "stream",
     "text": [
      "Размер тренировочной выборки: (8000, 11) (8000, 1)\n",
      "Размер тестовой выборки: (2000, 11) (2000, 1)\n"
     ]
    }
   ],
   "source": [
    "print('Размер тренировочной выборки:', X_train.shape, y_train.shape)\n",
    "print('Размер тестовой выборки:', X_test.shape, y_test.shape)"
   ]
  },
  {
   "cell_type": "markdown",
   "metadata": {},
   "source": [
    "При работе с нашими данными мы установили наличие переменных со строковыми значениями типа object, которые не могут быть использованы напрямую в моделях машинного обучения. Для того, чтобы преобразовать данные переменные, мы перевели часть их в категориальные дамми-переменные, а оставшееся неинформативное пространство удалили из исходного набора данных.\n",
    "\n",
    "Также мы обнаружили пропуски в данных характеристиках, которые нам удалось заполнить, используя информацию о возрасте клиентов.\n",
    "\n",
    "Для того чтобы использовать данные в наших моделях, мы разделили их на тренировочные и тестовые выборки, учитывая наличие дисбаланса между классами.\n",
    "\n",
    "Чтобы более эффективно использовать данные в моделировании, мы также применили метод стандартизации, который помог выровнять масштаб данных и устранить возможные искажения результатов, вызванные различиями в масштабе переменных."
   ]
  },
  {
   "cell_type": "markdown",
   "metadata": {},
   "source": [
    "## Моделиривание без учета дисбаланса."
   ]
  },
  {
   "cell_type": "code",
   "execution_count": 19,
   "metadata": {},
   "outputs": [
    {
     "name": "stdout",
     "output_type": "stream",
     "text": [
      "0    7963\n",
      "1    2037\n",
      "Name: Exited, dtype: int64\n"
     ]
    },
    {
     "data": {
      "image/png": "[encoded data removed]",
      "text/plain": [
       "<Figure size 576x432 with 1 Axes>"
      ]
     },
     "metadata": {},
     "output_type": "display_data"
    }
   ],
   "source": [
    "sns.set_style('darkgrid')\n",
    "# график баланса классов\n",
    "fig, ax = plt.subplots(figsize=(8, 6))\n",
    "sns.countplot(data=y, x='Exited', ax=ax)\n",
    "ax.set_title('Баланс классов')\n",
    "ax.set_xlabel('0 - не покидали банк, 1 - покинули банк')\n",
    "ax.set_ylabel('Количество клиентов')\n",
    "\n",
    "# вывод количества значений каждого класса в датасете\n",
    "print(y['Exited'].value_counts())"
   ]
  },
  {
   "cell_type": "markdown",
   "metadata": {},
   "source": [
    "Наше исследование данных показало, что в нашем наборе данных присутствует дисбаланс классов - большинство клиентов не являются требуемыми для нашей работы оттоков. Такой дисбаланс может привести к низкому качеству моделирования и предсказаниям. Однако, прежде чем применять специальные методы балансирования классов, мы должны убедиться, насколько важна проблема дисбаланса в данном наборе данных.\n",
    "\n",
    "Для нашего исследования мы собираемся использовать три модели машинного обучения - логистическую регрессию, дерево решений и случайный лес. Мы будем использовать метод GridSearch для подбора оптимальных параметров каждой модели, чтобы достичь наивысшего значения F1-меры. После того, как мы получим оптимальные значения параметров для каждой модели, мы сможем решить необходимость или необходимость применения методов балансировки классов для улучшения наших результатов.\n",
    "\n",
    "Выявление наличия дисбаланса классов в нашем наборе данных является критически важным шагом в построении эффективной модели машинного обучения. Когда классы несбалансированы, модель может столкнуться с проблемой неспособности правильно идентифицировать менее представленный класс, что может привести к ошибочным или неточным предсказаниям.\n",
    "\n",
    "При построении нашего прогнозного моделирования мы проверяем влияние дисбаланса классов на производительность каждой модели, используемой в рассматриваемом исследовании. \n",
    "\n",
    "В частности, мы будем использовать логистическую регрессию, дерево решений и случайный лес для построения моделей машинного обучения, которые могут выделять тех клиентов, которые склонны к отказу от использования услуг нашего банка. \n",
    "\n",
    "Для того, чтобы моделирование было более точным, мы будем использовать метод GridSearch для оптимизации параметров моделей и достижения наивысшей F1-меры. \n",
    "\n",
    "И только после того, как мы получим оптимальные значения параметров для каждой модели, мы сможем применять специальные методы балансирования классов, если эти методы будут необходимы для улучшения результатов нашей работы. Эти методы могут включать в себя такие техники, как взвешивание классов, увеличение образцов, сокращение образцов, перевзвешивание и другие. \n",
    "\n",
    "Однако, применение методов балансировки классов не всегда обязательно, особенно если дисбаланс классов не настолько значителен, и наши модели могут хорошо работать без вмешательства. \n",
    "\n",
    "В целом, наша работа состоит в том, чтобы найти оптимальную модель для прогнозирования клиентов, могущих отказаться от использования услуг нашего банка. Мы будем использовать лучшие модели и методы обработки данных и балансировки классов, чтобы получить максимально точные результаты."
   ]
  },
  {
   "cell_type": "markdown",
   "metadata": {},
   "source": [
    "### Логистическая регрессия."
   ]
  },
  {
   "cell_type": "markdown",
   "metadata": {},
   "source": [
    "У данной модели мы рассмотрим два параметра: solvers и penalty.  \n",
    "Параметр solvers выбирает оптимальный решатель для решения задачи, а параметр penalty добавляет регуляризацию, которая позволяет преодолеть проблему переобучения путем снижения значений коэффициентов. Кроме того, важно учитывать, что определенный вид регуляризации может не подходить для конкретного решателя, поэтому необходимо проводить комплексную настройку параметров для получения наилучших результатов. Также важно следить за метрикой F1-мера, чтобы находить оптимальные значения параметров solvers и penalty на тренировочной выборке."
   ]
  },
  {
   "cell_type": "code",
   "execution_count": 20,
   "metadata": {},
   "outputs": [
    {
     "data": {
      "text/plain": [
       "GridSearchCV(cv=5, estimator=LogisticRegression(random_state=9),\n",
       "             param_grid={'penalty': ['l1', 'l2'],\n",
       "                         'solver': ['newton-cg', 'lbfgs', 'liblinear', 'sag',\n",
       "                                    'saga']},\n",
       "             scoring='f1')"
      ]
     },
     "execution_count": 20,
     "metadata": {},
     "output_type": "execute_result"
    }
   ],
   "source": [
    "logit = LogisticRegression(random_state=RANDOM_STATE)\n",
    "# Определяем модель для обучения\n",
    "params_log = {\"penalty\":[\"l1\",\"l2\"], \"solver\":['newton-cg', 'lbfgs', 'liblinear', 'sag', 'saga']}\n",
    "# Установливаем параметры для перебора\n",
    "cv_log = GridSearchCV(logit, param_grid=params_log,\n",
    "                      cv=5, scoring='f1')\n",
    "\n",
    "cv_log.fit(X_train, y_train)"
   ]
  },
  {
   "cell_type": "code",
   "execution_count": 21,
   "metadata": {},
   "outputs": [
    {
     "name": "stdout",
     "output_type": "stream",
     "text": [
      "Лучшая логистическая регерссия: LogisticRegression(penalty='l1', random_state=9, solver='liblinear')\n",
      "F-1 score: 0.3119700320586077\n",
      "ROC-AUC: 0.7684962101877089\n"
     ]
    }
   ],
   "source": [
    "print('Лучшая логистическая регерссия:', cv_log.best_estimator_)\n",
    "print('F-1 score:', cv_log.best_score_)\n",
    "predict_one = cv_log.predict_proba(X_train)[:, 1]\n",
    "print('ROC-AUC:', roc_auc_score(y_train, predict_one))"
   ]
  },
  {
   "cell_type": "markdown",
   "metadata": {},
   "source": [
    "Модель логистической регрессии с использованием лучших параметров, которые были определены (penalty='l1' и solver='liblinear'), не достигает необходимого уровня точности по метрике F1-мера, который был установлен в 0,59. Следовательно, данная модель с выбранными параметрами не подходит для решения наше задачи, и необходимо рассмотреть другие модели."
   ]
  },
  {
   "cell_type": "markdown",
   "metadata": {},
   "source": [
    "### Дерево решений."
   ]
  },
  {
   "cell_type": "markdown",
   "metadata": {},
   "source": [
    "Давайте обсудим другую модель - решающее дерево. Для этой модели мы можем определить два параметра - max_depth и max_features. Параметр max_depth отвечает за максимальную глубину дерева, то есть, сколько узлов может быть в дереве. Второй параметр - max_features - определяет максимальное количество признаков, которые могут быть использованы для определения лучшего разбиения в дереве."
   ]
  },
  {
   "cell_type": "code",
   "execution_count": 22,
   "metadata": {},
   "outputs": [
    {
     "data": {
      "text/plain": [
       "GridSearchCV(cv=5, estimator=DecisionTreeClassifier(random_state=9),\n",
       "             param_grid={'max_depth': range(1, 9),\n",
       "                         'max_features': ['auto', 'sqrt', 'log2']},\n",
       "             scoring='f1')"
      ]
     },
     "execution_count": 22,
     "metadata": {},
     "output_type": "execute_result"
    }
   ],
   "source": [
    "decision_tree = DecisionTreeClassifier(random_state=RANDOM_STATE)\n",
    "# Задаем модель для обучения\n",
    "params_tree = {'max_depth': range (1, 9, 1), 'max_features': ['auto', 'sqrt', 'log2']}\n",
    "# Устанавливаем параметры для перебора\n",
    "cv_tree = GridSearchCV(decision_tree, param_grid=params_tree,\n",
    "                      cv=5, scoring='f1')\n",
    "\n",
    "cv_tree.fit(X_train, y_train)"
   ]
  },
  {
   "cell_type": "code",
   "execution_count": 23,
   "metadata": {},
   "outputs": [
    {
     "name": "stdout",
     "output_type": "stream",
     "text": [
      "Лучшее дерево решений: DecisionTreeClassifier(max_depth=8, max_features='auto', random_state=9)\n",
      "F-1 score: 0.5241899630498322\n",
      "ROC-AUC: 0.8648397877319876\n"
     ]
    }
   ],
   "source": [
    "print('Лучшее дерево решений:', cv_tree.best_estimator_)\n",
    "print('F-1 score:', cv_tree.best_score_)\n",
    "predict_one = cv_tree.predict_proba(X_train)[:, 1]\n",
    "print('ROC-AUC:', roc_auc_score(y_train, predict_one))"
   ]
  },
  {
   "cell_type": "markdown",
   "metadata": {},
   "source": [
    "Наилучшее дерево решений было определено с параметрами max_depth=8 и max_features='auto'. Это привело к повышению качества модели, но не достаточно для превышения порогового значения для F1-меры, равного 0,59. Следовательно, мы можем сделать вывод, что модель решающего дерева с такими параметрами также не является подходящей."
   ]
  },
  {
   "cell_type": "markdown",
   "metadata": {},
   "source": [
    "### Случайный лес."
   ]
  },
  {
   "cell_type": "markdown",
   "metadata": {},
   "source": [
    "Давайте перейдем к обсуждению последней модели - случайного леса. Для этой модели мы можем определить несколько параметров - max_depth и max_features, которые мы уже рассмотрели при построении решающего дерева, и параметр n_estimators. Он определяет количество деревьев, которые создаст наша модель для обработки данных."
   ]
  },
  {
   "cell_type": "code",
   "execution_count": 24,
   "metadata": {},
   "outputs": [
    {
     "data": {
      "text/plain": [
       "GridSearchCV(cv=5, estimator=RandomForestClassifier(random_state=9),\n",
       "             param_grid={'max_depth': range(1, 9),\n",
       "                         'max_features': ['auto', 'sqrt', 'log2'],\n",
       "                         'n_estimators': range(50, 100, 10)},\n",
       "             scoring='f1')"
      ]
     },
     "execution_count": 24,
     "metadata": {},
     "output_type": "execute_result"
    }
   ],
   "source": [
    "random_forest = RandomForestClassifier(random_state=RANDOM_STATE)\n",
    "# Задаем модель для обучения\n",
    "params_forest = {'max_depth': range (1, 9, 1), 'max_features': ['auto', 'sqrt', 'log2'],\n",
    "                 'n_estimators': range(50, 100, 10)}\n",
    "# Указываем параметры для перебора\n",
    "cv_forest = GridSearchCV(random_forest, param_grid=params_forest,\n",
    "                      cv=5, scoring='f1')\n",
    "\n",
    "cv_forest.fit(X_train, y_train)"
   ]
  },
  {
   "cell_type": "code",
   "execution_count": 25,
   "metadata": {},
   "outputs": [
    {
     "name": "stdout",
     "output_type": "stream",
     "text": [
      "Лучший случайный лес: RandomForestClassifier(max_depth=8, n_estimators=80, random_state=9)\n",
      "F-1 score: 0.5537307520405796\n",
      "ROC-AUC: 0.9086269996436517\n"
     ]
    }
   ],
   "source": [
    "print('Лучший случайный лес:', cv_forest.best_estimator_)\n",
    "print('F-1 score:', cv_forest.best_score_)\n",
    "predict_one = cv_forest.predict_proba(X_train)[:, 1]\n",
    "print('ROC-AUC:', roc_auc_score(y_train, predict_one))"
   ]
  },
  {
   "cell_type": "code",
   "execution_count": 26,
   "metadata": {},
   "outputs": [
    {
     "name": "stdout",
     "output_type": "stream",
     "text": [
      "Лучший случайный лес: RandomForestClassifier(max_depth=8, n_estimators=80, random_state=9)\n",
      "F-1 score: 0.5537307520405796\n",
      "ROC-AUC: 0.9086269996436517\n"
     ]
    }
   ],
   "source": [
    "best_forest = RandomForestClassifier(max_depth=8, n_estimators=80, random_state=RANDOM_STATE)\n",
    "scores = cross_validate(best_forest, X_train, y_train, scoring='f1', cv=5, return_estimator=True)\n",
    "best_forest.fit(X_train, y_train)\n",
    "\n",
    "print('Лучший случайный лес:', best_forest)\n",
    "print('F-1 score:', scores['test_score'].mean())\n",
    "print('ROC-AUC:', roc_auc_score(y_train, (best_forest.predict_proba(X_train)[:, 1])))"
   ]
  },
  {
   "cell_type": "markdown",
   "metadata": {},
   "source": [
    "Лучшая модель случайного леса имеет глубину дерева (max_depth) равную 8 и количество деревьев (n_estimators) равное 80. Хотя значение ключевой метрики не достигло порогового значения, данная модель все же показывает наибольшее значение данной метрики.  \n",
    "\n",
    "Кроме того, заметно, что у каждой модели ROC-AUC имел весьма высокое значение, особенно у модели случайного леса, что говорит о ее качественной работе. Это происходит потому, что F1-мера лучше оценивает выборки с неравными классами, а также оценивает правильность предсказаний положительного класса, что является главной нашей задачей.  \n",
    "\n",
    "Таким образом, мы можем заключить, что в условиях дисбаланса классов нашего таргета достаточно сложно получить качественную модель с высоким значением F1-меры, не учитывая этот дисбаланс при обучении модели."
   ]
  },
  {
   "cell_type": "markdown",
   "metadata": {},
   "source": [
    "## Моделирование с учетом дисбаланса."
   ]
  },
  {
   "cell_type": "markdown",
   "metadata": {},
   "source": [
    "Наши исходные модели, обученные на недостаточно сбалансированных данных, не дали хороших результатов - ни у одной из моделей не достигаемый показатель F1-меры не достиг порогового значения в 0.59. Таким образом, мы можем утверждать, что неравное распределение классов оказывает значительное влияние на предсказательную силу и качество получаемых моделей. Для достижения требуемой для заказчика модели нам следует провести дальнейшую работу и принять меры для снижения влияния дисбаланса.\n",
    "\n",
    "Мы будем применять следующие методы для балансировки данных:\n",
    "\n",
    "1. Взвешивание классов.\n",
    "2. Увеличение выборки."
   ]
  },
  {
   "cell_type": "markdown",
   "metadata": {},
   "source": [
    "### Взвешивание классов."
   ]
  },
  {
   "cell_type": "markdown",
   "metadata": {},
   "source": [
    "Для снижения дисбаланса классов мы решаем использовать взвешенную классификацию с параметром \"balanced\". Таким образом, каждый класс будет взвешен на основе своей доли в общей выборке. Обращая внимание на то, что модель случайного леса дала наиболее высокое качество при моделировании без учета дисбаланса, мы будем использовать именно эту модель в дальнейшем."
   ]
  },
  {
   "cell_type": "code",
   "execution_count": 27,
   "metadata": {},
   "outputs": [
    {
     "data": {
      "text/plain": [
       "GridSearchCV(cv=5,\n",
       "             estimator=RandomForestClassifier(class_weight='balanced',\n",
       "                                              random_state=9),\n",
       "             n_jobs=-1,\n",
       "             param_grid={'max_depth': range(1, 9),\n",
       "                         'max_features': ['auto', 'sqrt', 'log2'],\n",
       "                         'n_estimators': range(50, 100, 10)},\n",
       "             scoring='f1')"
      ]
     },
     "execution_count": 27,
     "metadata": {},
     "output_type": "execute_result"
    }
   ],
   "source": [
    "random_forest = RandomForestClassifier(random_state=RANDOM_STATE, class_weight='balanced')\n",
    "# Задаем модель для обучения\n",
    "params_forest = {'max_depth': range (1, 9, 1), 'max_features': ['auto', 'sqrt', 'log2'], \n",
    "                 'n_estimators': range(50, 100, 10)}\n",
    "# Указываем параметры для перебора\n",
    "cv_forest_balanced = GridSearchCV(random_forest, param_grid=params_forest,\n",
    "                      cv=5, scoring='f1', n_jobs=-1)\n",
    "\n",
    "cv_forest_balanced.fit(X_train, y_train)"
   ]
  },
  {
   "cell_type": "code",
   "execution_count": 28,
   "metadata": {},
   "outputs": [
    {
     "name": "stdout",
     "output_type": "stream",
     "text": [
      "Лучший случайный лес: RandomForestClassifier(class_weight='balanced', max_depth=8, n_estimators=60,\n",
      "                       random_state=9)\n",
      "F-1 score: 0.6156321176769578\n",
      "ROC-AUC: 0.9145094432298639\n"
     ]
    }
   ],
   "source": [
    "print('Лучший случайный лес:', cv_forest_balanced.best_estimator_)\n",
    "print('F-1 score:', cv_forest_balanced.best_score_)\n",
    "predict_one = cv_forest_balanced.predict_proba(X_train)[:, 1]\n",
    "print('ROC-AUC:', roc_auc_score(y_train, predict_one))"
   ]
  },
  {
   "cell_type": "code",
   "execution_count": 29,
   "metadata": {},
   "outputs": [
    {
     "name": "stdout",
     "output_type": "stream",
     "text": [
      "Лучший случайный лес: RandomForestClassifier(class_weight='balanced', max_depth=8, n_estimators=60,\n",
      "                       random_state=9)\n",
      "F-1 score: 0.6156321176769578\n",
      "ROC-AUC: 0.9145094432298639\n"
     ]
    }
   ],
   "source": [
    "best_forest_balanced = RandomForestClassifier(class_weight='balanced', max_depth=8, n_estimators=60,\n",
    "                                              random_state=RANDOM_STATE)\n",
    "scores = cross_validate(best_forest_balanced, X_train, y_train, scoring='f1', cv=5, return_estimator=True)\n",
    "best_forest_balanced.fit(X_train, y_train)\n",
    "\n",
    "print('Лучший случайный лес:', best_forest_balanced)\n",
    "print('F-1 score:', scores['test_score'].mean())\n",
    "print('ROC-AUC:', roc_auc_score(y_train, (best_forest_balanced.predict_proba(X_train)[:, 1])))"
   ]
  },
  {
   "cell_type": "markdown",
   "metadata": {},
   "source": [
    "Модель случайного леса с применением взвешенной классификации, имеющая глубину дерева (max_depth) равную 8 и количество деревьев (n_estimators) равное 60, дала наилучшие результаты по показателю F1-меры, превышая пороговое значение. Кроме того, метрика ROC-AUC, полученная для данной модели, также достаточно высока.\n",
    "\n",
    "Несмотря на это, мы не будем останавливаться на достигнутом и попробуем увеличить значимость другого ключевого параметра."
   ]
  },
  {
   "cell_type": "markdown",
   "metadata": {},
   "source": [
    "Дерево."
   ]
  },
  {
   "cell_type": "code",
   "execution_count": 31,
   "metadata": {},
   "outputs": [
    {
     "data": {
      "text/plain": [
       "GridSearchCV(cv=5,\n",
       "             estimator=DecisionTreeClassifier(class_weight='balanced',\n",
       "                                              random_state=9),\n",
       "             param_grid={'max_depth': range(1, 9),\n",
       "                         'max_features': ['auto', 'sqrt', 'log2']},\n",
       "             scoring='f1')"
      ]
     },
     "execution_count": 31,
     "metadata": {},
     "output_type": "execute_result"
    }
   ],
   "source": [
    "decision_tree_balanced = DecisionTreeClassifier(random_state=RANDOM_STATE, class_weight='balanced')\n",
    "# Задаем модель для обучения\n",
    "params_tree_balanced = {'max_depth': range (1, 9, 1), 'max_features': ['auto', 'sqrt', 'log2']}\n",
    "# Устанавливаем параметры для перебора\n",
    "cv_tree_balanced = GridSearchCV(decision_tree_balanced, param_grid=params_tree_balanced,\n",
    "                      cv=5, scoring='f1')\n",
    "\n",
    "cv_tree_balanced.fit(X_train, y_train)"
   ]
  },
  {
   "cell_type": "code",
   "execution_count": 32,
   "metadata": {},
   "outputs": [
    {
     "name": "stdout",
     "output_type": "stream",
     "text": [
      "Лучшее дерево решений: DecisionTreeClassifier(class_weight='balanced', max_depth=8,\n",
      "                       max_features='auto', random_state=9)\n",
      "F-1 score: 0.552283092724097\n",
      "ROC-AUC: 0.8527443634367385\n"
     ]
    }
   ],
   "source": [
    "print('Лучшее дерево решений:', cv_tree_balanced.best_estimator_)\n",
    "print('F-1 score:', cv_tree_balanced.best_score_)\n",
    "predict_one = cv_tree_balanced.predict_proba(X_train)[:, 1]\n",
    "print('ROC-AUC:', roc_auc_score(y_train, predict_one))"
   ]
  },
  {
   "cell_type": "markdown",
   "metadata": {},
   "source": [
    "Лучшее дерево решений, определенное с использованием параметров \"class_weight='balanced'\", \"max_depth=8\", \"max_features='auto'\" и \"random_state=9\", достигает F-1 score 0.552283092724097 и ROC-AUC 0.8527443634367385.\n",
    "\n",
    "F-1 score 0.552283092724097 указывает на среднюю точность и полноту предсказаний модели. Это значит, что модель правильно классифицирует около 55.2% положительных объектов.\n",
    "\n",
    "ROC-AUC 0.8527443634367385 говорит о том, что модель обладает хорошей способностью различать между классами. Чем ближе ROC-AUC к 1, тем лучше модель классификации различает между положительными и отрицательными объектами.\n",
    "\n",
    "Общий вывод: лучшее дерево решений, созданное с использованием указанных параметров, показывает приемлемые результаты с точки зрения F-1 score и отличные результаты по метрике ROC-AUC. Однако, для полного понимания качества модели, рекомендуется провести дополнительный анализ и сравнение с другими моделями классификации."
   ]
  },
  {
   "cell_type": "markdown",
   "metadata": {},
   "source": [
    "Логистическая регрессия."
   ]
  },
  {
   "cell_type": "code",
   "execution_count": 34,
   "metadata": {},
   "outputs": [
    {
     "data": {
      "text/plain": [
       "GridSearchCV(cv=5,\n",
       "             estimator=LogisticRegression(class_weight='balanced',\n",
       "                                          random_state=9),\n",
       "             param_grid={'penalty': ['l1', 'l2'],\n",
       "                         'solver': ['newton-cg', 'lbfgs', 'liblinear', 'sag',\n",
       "                                    'saga']},\n",
       "             scoring='f1')"
      ]
     },
     "execution_count": 34,
     "metadata": {},
     "output_type": "execute_result"
    }
   ],
   "source": [
    "logit_balanced = LogisticRegression(random_state=RANDOM_STATE, class_weight='balanced')\n",
    "# Определяем модель для обучения\n",
    "params_log_balanced = {\"penalty\":[\"l1\",\"l2\"], \"solver\":['newton-cg', 'lbfgs', 'liblinear', 'sag', 'saga']}\n",
    "# Установливаем параметры для перебора\n",
    "cv_log_balanced = GridSearchCV(logit_balanced, param_grid=params_log_balanced,\n",
    "                      cv=5, scoring='f1')\n",
    "\n",
    "cv_log_balanced.fit(X_train, y_train)"
   ]
  },
  {
   "cell_type": "code",
   "execution_count": 35,
   "metadata": {},
   "outputs": [
    {
     "name": "stdout",
     "output_type": "stream",
     "text": [
      "Лучшая логистическая регерссия: LogisticRegression(class_weight='balanced', penalty='l1', random_state=9,\n",
      "                   solver='saga')\n",
      "F-1 score: 0.4942757569255122\n",
      "ROC-AUC: 0.7718340380040644\n"
     ]
    }
   ],
   "source": [
    "print('Лучшая логистическая регерссия:', cv_log_balanced.best_estimator_)\n",
    "print('F-1 score:', cv_log_balanced.best_score_)\n",
    "predict_one = cv_log_balanced.predict_proba(X_train)[:, 1]\n",
    "print('ROC-AUC:', roc_auc_score(y_train, predict_one))"
   ]
  },
  {
   "cell_type": "markdown",
   "metadata": {},
   "source": [
    "Лучшая логистическая регрессия, определенная с использованием параметров \"class_weight='balanced'\", \"penalty='l1'\", \"random_state=9\" и \"solver='saga'\", достигает F-1 score 0.4942757569255122 и ROC-AUC 0.7718340380040644.\n",
    "\n",
    "F-1 score 0.4942757569255122 указывает на относительно низкую точность и полноту предсказаний модели. Это означает, что модель правильно классифицирует около 49.4% положительных объектов.\n",
    "\n",
    "ROC-AUC 0.7718340380040644 говорит о том, что модель обладает неплохой способностью различать между классами, но она имеет меньшую разницу между TPR и FPR по сравнению с предыдущим примером.\n",
    "\n",
    "Общий вывод: лучшая логистическая регрессия, созданная с использованием указанных параметров, не демонстрирует высокую точность и полноту предсказаний, и ее способность различать между классами несколько ниже, чем у предыдущего примера с деревом решений."
   ]
  },
  {
   "cell_type": "markdown",
   "metadata": {},
   "source": [
    "### Увеличение выборки."
   ]
  },
  {
   "cell_type": "markdown",
   "metadata": {},
   "source": [
    "Для решения проблемы дисбаланса классов мы также применяем метод увеличения выборки. Этот метод заключается в искусственном увеличении числа наблюдений необходимого нам класса путем дублирования существующих записей. Конкретно в нашем случае мы увеличим количество наблюдений, относящихся к положительной категории."
   ]
  },
  {
   "cell_type": "code",
   "execution_count": 39,
   "metadata": {},
   "outputs": [],
   "source": [
    "repeat = round(X_train[y_train['Exited'] == 0]['CreditScore'].count()/\n",
    "    X_train[y_train['Exited'] == 1]['CreditScore'].count())"
   ]
  },
  {
   "cell_type": "code",
   "execution_count": 40,
   "metadata": {},
   "outputs": [],
   "source": [
    "def upsample(features, target, repeat):\n",
    "    features_zeros = features[target['Exited'] == 0]\n",
    "    features_ones = features[target['Exited'] == 1]\n",
    "    target_zeros = target[target['Exited'] == 0]\n",
    "    terget_ones = target[target['Exited'] == 1]\n",
    "    # pd.concat() - объединяет таблицы\n",
    "    features_upsampled = pd.concat([features_zeros] + [features_ones] * repeat)\n",
    "    target_upsampled = pd.concat([target_zeros] + [terget_ones] * repeat)\n",
    "    # shuffle() - перемешивает данные\n",
    "    features_upsampled = shuffle(features_upsampled, random_state=9)\n",
    "    target_upsampled = shuffle(target_upsampled, random_state=9)\n",
    "    return features_upsampled, target_upsampled\n",
    "\n",
    "X_upsampled, y_upsampled = upsample(X_train, y_train, repeat)"
   ]
  },
  {
   "cell_type": "markdown",
   "metadata": {},
   "source": [
    "Перед тем, как продолжить дальнейшую работу, мы произведем анализ долей классов после применения метода увеличения выборки. После чего мы проведем повторное обучение модели случайного леса на полученных данных и оценим ее качество."
   ]
  },
  {
   "cell_type": "code",
   "execution_count": 41,
   "metadata": {},
   "outputs": [
    {
     "name": "stdout",
     "output_type": "stream",
     "text": [
      "1    6520\n",
      "0    6370\n",
      "Name: Exited, dtype: int64\n"
     ]
    },
    {
     "data": {
      "image/png": "[encoded data removed]",
      "text/plain": [
       "<Figure size 576x432 with 1 Axes>"
      ]
     },
     "metadata": {},
     "output_type": "display_data"
    }
   ],
   "source": [
    "sns.set_style('darkgrid')\n",
    "# график баланса классов\n",
    "fig, ax = plt.subplots(figsize=(8, 6))\n",
    "sns.countplot(data=y_upsampled, x='Exited', ax=ax)\n",
    "ax.set_title('Баланс классов, после преобразования')\n",
    "ax.set_xlabel('0 - не покидали банк, 1 - покинули банк')\n",
    "ax.set_ylabel('Количество клиентов')\n",
    "\n",
    "# вывод количества значений каждого класса в датасете\n",
    "print(y_upsampled['Exited'].value_counts())"
   ]
  },
  {
   "cell_type": "markdown",
   "metadata": {},
   "source": [
    "### Уменьшение выборки."
   ]
  },
  {
   "cell_type": "code",
   "execution_count": 19,
   "metadata": {},
   "outputs": [],
   "source": [
    "def downsample(features, target):\n",
    "    features_zeros = features[target['Exited'] == 0]\n",
    "    features_ones = features[target['Exited'] == 1]\n",
    "    target_zeros = target[target['Exited'] == 0]\n",
    "    target_ones = target[target['Exited'] == 1]\n",
    "    \n",
    "    # Определите количество образцов класса с меньшим количеством\n",
    "    desired_length = len(target_ones)\n",
    "    \n",
    "    # Случайным образом выберите образцы из класса с большим количеством\n",
    "    features_zeros_downsampled = features_zeros.sample(desired_length, random_state=42)\n",
    "    target_zeros_downsampled = target_zeros.sample(desired_length, random_state=42)\n",
    "    \n",
    "    # Объедините выбранные образцы с образцами класса Exited=1 для получения нового сбалансированного датасета\n",
    "    features_downsampled = pd.concat([features_zeros_downsampled, features_ones])\n",
    "    target_downsampled = pd.concat([target_zeros_downsampled, target_ones])\n",
    "    \n",
    "    # Перемешайте данные\n",
    "    features_downsampled = shuffle(features_downsampled, random_state=42)\n",
    "    target_downsampled = shuffle(target_downsampled, random_state=42)\n",
    "    \n",
    "    return features_downsampled, target_downsampled\n",
    "\n",
    "X_downsampled, y_downsampled = downsample(X_train, y_train)"
   ]
  },
  {
   "cell_type": "code",
   "execution_count": 20,
   "metadata": {},
   "outputs": [
    {
     "name": "stdout",
     "output_type": "stream",
     "text": [
      "0    1630\n",
      "1    1630\n",
      "Name: Exited, dtype: int64\n"
     ]
    },
    {
     "data": {
      "image/png": "[encoded data removed]",
      "text/plain": [
       "<Figure size 576x432 with 1 Axes>"
      ]
     },
     "metadata": {},
     "output_type": "display_data"
    }
   ],
   "source": [
    "sns.set_style('darkgrid')\n",
    "# график баланса классов\n",
    "fig, ax = plt.subplots(figsize=(8, 6))\n",
    "sns.countplot(data=y_downsampled, x='Exited', ax=ax)\n",
    "ax.set_title('Баланс классов, после преобразования')\n",
    "ax.set_xlabel('0 - не покидали банк, 1 - покинули банк')\n",
    "ax.set_ylabel('Количество клиентов')\n",
    "\n",
    "# вывод количества значений каждого класса в датасете\n",
    "print(y_downsampled['Exited'].value_counts())"
   ]
  },
  {
   "cell_type": "code",
   "execution_count": 21,
   "metadata": {},
   "outputs": [
    {
     "ename": "NameError",
     "evalue": "name 'X_upsampled' is not defined",
     "output_type": "error",
     "traceback": [
      "\u001b[0;31m---------------------------------------------------------------------------\u001b[0m",
      "\u001b[0;31mNameError\u001b[0m                                 Traceback (most recent call last)",
      "\u001b[0;32m/tmp/ipykernel_48/1409686926.py\u001b[0m in \u001b[0;36m<module>\u001b[0;34m\u001b[0m\n\u001b[1;32m      6\u001b[0m \u001b[0mcv_forest_upsampled\u001b[0m \u001b[0;34m=\u001b[0m \u001b[0mGridSearchCV\u001b[0m\u001b[0;34m(\u001b[0m\u001b[0mrandom_forest\u001b[0m\u001b[0;34m,\u001b[0m \u001b[0mparam_grid\u001b[0m\u001b[0;34m=\u001b[0m\u001b[0mparams_forest\u001b[0m\u001b[0;34m,\u001b[0m \u001b[0mscoring\u001b[0m\u001b[0;34m=\u001b[0m\u001b[0;34m'f1'\u001b[0m\u001b[0;34m,\u001b[0m \u001b[0mn_jobs\u001b[0m\u001b[0;34m=\u001b[0m\u001b[0;34m-\u001b[0m\u001b[0;36m1\u001b[0m\u001b[0;34m)\u001b[0m\u001b[0;34m\u001b[0m\u001b[0;34m\u001b[0m\u001b[0m\n\u001b[1;32m      7\u001b[0m \u001b[0;34m\u001b[0m\u001b[0m\n\u001b[0;32m----> 8\u001b[0;31m \u001b[0mcv_forest_upsampled\u001b[0m\u001b[0;34m.\u001b[0m\u001b[0mfit\u001b[0m\u001b[0;34m(\u001b[0m\u001b[0mX_upsampled\u001b[0m\u001b[0;34m,\u001b[0m \u001b[0my_upsampled\u001b[0m\u001b[0;34m)\u001b[0m\u001b[0;34m\u001b[0m\u001b[0;34m\u001b[0m\u001b[0m\n\u001b[0m",
      "\u001b[0;31mNameError\u001b[0m: name 'X_upsampled' is not defined"
     ]
    }
   ],
   "source": [
    "random_forest = RandomForestClassifier(random_state=RANDOM_STATE)\n",
    "# Задаем модель для обучения\n",
    "params_forest = {'max_depth': range (1, 9, 1), 'max_features': ['auto', 'sqrt', 'log2'],\n",
    "                 'n_estimators': range(50, 100, 10)}\n",
    "# Указываем параметры для перебора\n",
    "cv_forest_upsampled = GridSearchCV(random_forest, param_grid=params_forest, scoring='f1', n_jobs=-1)\n",
    "\n",
    "cv_forest_upsampled.fit(X_upsampled, y_upsampled)"
   ]
  },
  {
   "cell_type": "code",
   "execution_count": 43,
   "metadata": {},
   "outputs": [
    {
     "name": "stdout",
     "output_type": "stream",
     "text": [
      "Лучший случайный лес: RandomForestClassifier(max_depth=8, n_estimators=50, random_state=9)\n",
      "F-1 score: 0.8131386799000475\n",
      "ROC-AUC: 0.9159651260220936\n"
     ]
    }
   ],
   "source": [
    "print('Лучший случайный лес:', cv_forest_upsampled.best_estimator_)\n",
    "print('F-1 score:', cv_forest_upsampled.best_score_)\n",
    "predict_one = cv_forest_upsampled.predict_proba(X_train)[:, 1]\n",
    "print('ROC-AUC:', roc_auc_score(y_train, predict_one))"
   ]
  },
  {
   "cell_type": "code",
   "execution_count": 22,
   "metadata": {},
   "outputs": [
    {
     "data": {
      "text/plain": [
       "GridSearchCV(estimator=RandomForestClassifier(random_state=9), n_jobs=-1,\n",
       "             param_grid={'max_depth': range(1, 9),\n",
       "                         'max_features': ['auto', 'sqrt', 'log2'],\n",
       "                         'n_estimators': range(50, 100, 10)},\n",
       "             scoring='f1')"
      ]
     },
     "execution_count": 22,
     "metadata": {},
     "output_type": "execute_result"
    }
   ],
   "source": [
    "random_forest_downsampled = RandomForestClassifier(random_state=RANDOM_STATE)\n",
    "# Задаем модель для обучения\n",
    "params_forest_downsampled = {'max_depth': range (1, 9, 1), 'max_features': ['auto', 'sqrt', 'log2'],\n",
    "                 'n_estimators': range(50, 100, 10)}\n",
    "# Указываем параметры для перебора\n",
    "cv_forest_downsampled = GridSearchCV(random_forest_downsampled, param_grid=params_forest, scoring='f1', n_jobs=-1)\n",
    "\n",
    "cv_forest_downsampled.fit(X_downsampled, y_downsampled)"
   ]
  },
  {
   "cell_type": "code",
   "execution_count": 24,
   "metadata": {},
   "outputs": [
    {
     "name": "stdout",
     "output_type": "stream",
     "text": [
      "Лучший случайный лес: RandomForestClassifier(max_depth=8, n_estimators=50, random_state=9)\n",
      "F-1 score: 0.7672273407389646\n",
      "ROC-AUC: 0.928671572132937\n"
     ]
    }
   ],
   "source": [
    "print('Лучший случайный лес:', cv_forest_downsampled.best_estimator_)\n",
    "print('F-1 score:', cv_forest_downsampled.best_score_)\n",
    "predict_one = cv_forest_downsampled.predict_proba(X_downsampled)[:, 1]\n",
    "print('ROC-AUC:', roc_auc_score(y_downsampled, predict_one))"
   ]
  },
  {
   "cell_type": "code",
   "execution_count": 44,
   "metadata": {},
   "outputs": [
    {
     "name": "stdout",
     "output_type": "stream",
     "text": [
      "Лучший случайный лес: RandomForestClassifier(max_depth=8, n_estimators=50, random_state=9)\n",
      "F-1 score: 0.8131386799000475\n",
      "ROC-AUC: 0.9159651260220936\n"
     ]
    }
   ],
   "source": [
    "best_forest_upsampled = RandomForestClassifier(max_depth=8, n_estimators=50, random_state=RANDOM_STATE)\n",
    "scores = cross_validate(best_forest_upsampled, X_upsampled, y_upsampled,\n",
    "                        scoring='f1', return_estimator=True)\n",
    "best_forest_upsampled.fit(X_upsampled, y_upsampled)\n",
    "\n",
    "print('Лучший случайный лес:', best_forest_upsampled)\n",
    "print('F-1 score:', scores['test_score'].mean())\n",
    "print('ROC-AUC:', roc_auc_score(y_upsampled, (best_forest_upsampled.predict_proba(X_upsampled)[:, 1])))"
   ]
  },
  {
   "cell_type": "code",
   "execution_count": 57,
   "metadata": {},
   "outputs": [
    {
     "name": "stdout",
     "output_type": "stream",
     "text": [
      "Лучший случайный лес: RandomForestClassifier(max_depth=8, n_estimators=50, random_state=9)\n",
      "F-1 score: 0.7672273407389646\n",
      "ROC-AUC: 0.928671572132937\n"
     ]
    }
   ],
   "source": [
    "best_forest_downsampled = RandomForestClassifier(max_depth=8, n_estimators=50, random_state=RANDOM_STATE)\n",
    "scores = cross_validate(best_forest_downsampled, X_downsampled, y_downsampled,\n",
    "                        scoring='f1', return_estimator=True)\n",
    "best_forest_downsampled.fit(X_downsampled, y_downsampled)\n",
    "\n",
    "print('Лучший случайный лес:', best_forest_downsampled)\n",
    "print('F-1 score:', scores['test_score'].mean())\n",
    "print('ROC-AUC:', roc_auc_score(y_downsampled, (best_forest_downsampled.predict_proba(X_downsampled)[:, 1])))"
   ]
  },
  {
   "cell_type": "markdown",
   "metadata": {},
   "source": [
    "После применения метода увеличения выборки мы обнаружили, что лучшая модель случайного леса имеет глубину дерева (max_depth) равную 8 и количество деревьев (n_estimators) равное 50. Она показала значительно более высокое значение F1-меры по сравнению с предыдущими моделями, как с балансировкой классов, так и без нее. ROC-AUC для данной модели также достаточно высокая. \n",
    "\n",
    "Итак, мы определили эту модель как итоговую и считаем, что она отвечает всем требованиям, которые были поставлены перед нами заказчиком."
   ]
  },
  {
   "cell_type": "markdown",
   "metadata": {},
   "source": [
    "## Финальное тестирование."
   ]
  },
  {
   "cell_type": "markdown",
   "metadata": {},
   "source": [
    "Последний этап работы заключается в анализе работы построенной модели на тестовых данных. Напомним, что после проведения последнего этапа работы мы выбрали в качестве итоговой модель случайного леса с глубиной дерева (max_depth) равной 8 и количеством деревьев (n_estimators) равными 50."
   ]
  },
  {
   "cell_type": "code",
   "execution_count": 45,
   "metadata": {},
   "outputs": [
    {
     "name": "stdout",
     "output_type": "stream",
     "text": [
      "F-1 score: 0.6294736842105263\n",
      "ROC-AUC: 0.8705739637943027\n"
     ]
    }
   ],
   "source": [
    "print('F-1 score:', f1_score(y_test, cv_forest_upsampled.predict(X_test)))\n",
    "print('ROC-AUC:', roc_auc_score(y_test, (best_forest_upsampled.predict_proba(X_test)[:, 1])))"
   ]
  },
  {
   "cell_type": "code",
   "execution_count": 58,
   "metadata": {},
   "outputs": [
    {
     "name": "stdout",
     "output_type": "stream",
     "text": [
      "F-1 score: 0.5992141453831041\n",
      "ROC-AUC: 0.8639093639093639\n"
     ]
    }
   ],
   "source": [
    "print('F-1 score:', f1_score(y_test, cv_forest_downsampled.predict(X_test)))\n",
    "print('ROC-AUC:', roc_auc_score(y_test, (best_forest_downsampled.predict_proba(X_test)[:, 1])))"
   ]
  },
  {
   "cell_type": "markdown",
   "metadata": {},
   "source": [
    "Модель случайного леса показала хороший результат на тренировочной выборке, однако значение ключевых метрик снизилось на тестовой выборке. Возможной причиной этой ситуации может быть переобучение модели, когда она слишком точно адаптировалась к тренировочным данным. В данном случае, мы также можем предположить, что искусственно увеличенное количество положительных наблюдений могло оказать свое влияние - модель получила большое количество однотипных положительных ответов, что повлияло на ее результаты."
   ]
  },
  {
   "cell_type": "markdown",
   "metadata": {},
   "source": [
    "## Выводы."
   ]
  },
  {
   "cell_type": "markdown",
   "metadata": {},
   "source": [
    "Мы выполнили работу по созданию модели, которая смогла бы помочь в выявлении потенциальных клиентов, склонных к отказу от услуг \"Бета-Банка\". Для этого мы рассмотрели три различные модели: логистическую регрессию, решающие деревья и модель случайного леса. Наша цель заключалась в подборе оптимальных параметров для каждой из них, так чтобы на тестовой выборке мы могли получить максимальное значение F1-меры.\n",
    "\n",
    "На первом этапе моделирования мы перепроверили исходные данные и обнаружили присутствие дисбаланса классов. После обучения моделей на этих данных, мы выявили, что ни одна из них не смогла достичь ключевого порогового значения F1-меры в 0,59. На втором этапе использовали различные подходы для ослабления влияния дисбаланса: мы меняли веса классов и увеличивали количество наблюдений с положительными ответами. За счет применения этих методов все модели, которые мы построили на втором этапе работали более эффективно и пересекли необходимый порог качества.\n",
    "\n",
    "Таким образом, после всех экспериментов и анализа результатов, мы выбрали модель случайного леса в качестве нашей итоговой модели. Она показала лучший результат при тренировке наших данных. Мы использовали увеличение количества положительных ответов для учета дисбаланса классов, и это помогло нам достичь наивысшей F1-меры. Модель случайного леса с параметрами max_depth=8 и n_estimators=50 была определена как итоговая модель.\n",
    "\n",
    "Однако, проверив качество нашей итоговой модели на тестовой выборке, мы обнаружили, что ее результаты снизились по сравнению с результатами на тренировочной выборке. Такой исход может свидетельствовать о переобучении нашей модели. Мы анализируем ситуацию и рассматриваем возможное решение проблемы.\n",
    "\n",
    "Нашей главной целью было создание эффективной модели, которая будет способна выделять тех клиентов, которые склонны к отказу от использования услуг \"Бета-Банка\". Модель случайного леса с параметрами max_depth=8 и n_estimators=50 смогла достичь высоких показателей на тренировочных данных, что свидетельствует о ее эффективности. Однако, наиболее вероятной причиной снижения ее показателей на тестовой выборке является переобучение нашей модели на тренировочных данных, из-за чего она не может хорошо обобщать новые, неизвестные данные.\n",
    "\n",
    "Для того чтобы решить эту проблему, мы можем применить различные методы, например, можно увеличить объем тестовой выборки, использовать регуляризации или обучение на кросс-валидации. Также мы можем пересмотреть предобработку данных или примененные методы балансировки классов. На данном этапе мы приступаем к анализу данных нашей модели, чтобы выявить наиболее вероятные причины переобучения. Мы можем обратить внимание на характеристики данных, которые могут повлиять на работу модели, например, качество признаков, их корреляцию и многообразие.\n",
    "\n",
    "После того, как мы проанализируем данные нашей модели, мы будем взвешивать различные опции по повышению ее качества на тестовых данных. Если это не сработает, мы можем вернуться к предыдущим этапам работы, чтобы улучшить качество наших данных и повысить эффективность модели.\n",
    "\n",
    "В целом, наша работа демонстрирует, что построение эффективной модели для выявления клиентов, склонных к отказу от услуг банка, является сложным заданием, требующим тщательного анализа данных и подбора оптимальных показателей модели. Несмотря на возможные проблемы, мы продолжаем работать над улучшением нашей модели и получению наиболее точных результатов"
   ]
  }
 ],
 "metadata": {
  "ExecuteTimeLog": [
   {
    "duration": 59,
    "start_time": "2023-06-26T21:10:07.225Z"
   },
   {
    "duration": 1940,
    "start_time": "2023-06-26T21:10:19.158Z"
   },
   {
    "duration": 127,
    "start_time": "2023-06-26T21:10:21.110Z"
   },
   {
    "duration": 14,
    "start_time": "2023-06-26T21:10:33.629Z"
   },
   {
    "duration": 21,
    "start_time": "2023-06-26T21:10:44.868Z"
   },
   {
    "duration": 12,
    "start_time": "2023-06-26T21:10:51.661Z"
   },
   {
    "duration": 11,
    "start_time": "2023-06-26T21:17:06.060Z"
   },
   {
    "duration": 20,
    "start_time": "2023-06-26T21:18:01.655Z"
   },
   {
    "duration": 12,
    "start_time": "2023-06-26T21:18:16.397Z"
   },
   {
    "duration": 232,
    "start_time": "2023-06-26T21:18:24.763Z"
   },
   {
    "duration": 15,
    "start_time": "2023-06-26T21:18:30.930Z"
   },
   {
    "duration": 10,
    "start_time": "2023-06-26T21:19:24.372Z"
   },
   {
    "duration": 14,
    "start_time": "2023-06-26T21:19:32.495Z"
   },
   {
    "duration": 123,
    "start_time": "2023-06-26T21:20:46.630Z"
   },
   {
    "duration": 13,
    "start_time": "2023-06-26T21:20:48.917Z"
   },
   {
    "duration": 2,
    "start_time": "2023-06-26T21:20:49.063Z"
   },
   {
    "duration": 58,
    "start_time": "2023-06-26T21:20:49.367Z"
   },
   {
    "duration": 10,
    "start_time": "2023-06-26T21:21:35.719Z"
   },
   {
    "duration": 45,
    "start_time": "2023-06-26T21:21:43.584Z"
   },
   {
    "duration": 4,
    "start_time": "2023-06-26T21:21:50.959Z"
   },
   {
    "duration": 65,
    "start_time": "2023-06-27T19:05:31.978Z"
   },
   {
    "duration": 1719,
    "start_time": "2023-06-27T19:05:41.912Z"
   },
   {
    "duration": 165,
    "start_time": "2023-06-27T19:05:43.633Z"
   },
   {
    "duration": 16,
    "start_time": "2023-06-27T19:05:43.800Z"
   },
   {
    "duration": 31,
    "start_time": "2023-06-27T19:05:43.818Z"
   },
   {
    "duration": 1826,
    "start_time": "2023-06-27T19:05:43.853Z"
   },
   {
    "duration": 8,
    "start_time": "2023-06-27T19:05:45.681Z"
   },
   {
    "duration": 19,
    "start_time": "2023-06-27T19:05:45.691Z"
   },
   {
    "duration": 4,
    "start_time": "2023-06-27T19:05:45.711Z"
   },
   {
    "duration": 197,
    "start_time": "2023-06-27T19:05:45.716Z"
   },
   {
    "duration": 7,
    "start_time": "2023-06-27T19:05:45.915Z"
   },
   {
    "duration": 18,
    "start_time": "2023-06-27T19:05:45.924Z"
   },
   {
    "duration": 17,
    "start_time": "2023-06-27T19:05:45.944Z"
   },
   {
    "duration": 15,
    "start_time": "2023-06-27T19:05:45.963Z"
   },
   {
    "duration": 2,
    "start_time": "2023-06-27T19:05:45.981Z"
   },
   {
    "duration": 47,
    "start_time": "2023-06-27T19:05:45.984Z"
   },
   {
    "duration": 4,
    "start_time": "2023-06-27T19:05:46.033Z"
   },
   {
    "duration": 30,
    "start_time": "2023-06-27T19:05:46.039Z"
   },
   {
    "duration": 3,
    "start_time": "2023-06-27T19:05:46.071Z"
   },
   {
    "duration": 2108,
    "start_time": "2023-06-27T19:08:01.347Z"
   },
   {
    "duration": 107,
    "start_time": "2023-06-27T19:16:46.559Z"
   },
   {
    "duration": 109,
    "start_time": "2023-06-27T19:17:31.708Z"
   },
   {
    "duration": 111,
    "start_time": "2023-06-27T19:19:16.108Z"
   },
   {
    "duration": 290,
    "start_time": "2023-06-27T19:19:25.298Z"
   },
   {
    "duration": 122,
    "start_time": "2023-06-27T19:20:25.650Z"
   },
   {
    "duration": 113,
    "start_time": "2023-06-27T19:20:33.317Z"
   },
   {
    "duration": 115,
    "start_time": "2023-06-27T19:20:37.350Z"
   },
   {
    "duration": 129,
    "start_time": "2023-06-27T19:20:57.198Z"
   },
   {
    "duration": 132,
    "start_time": "2023-06-27T19:23:49.345Z"
   },
   {
    "duration": 131,
    "start_time": "2023-06-27T19:25:01.154Z"
   },
   {
    "duration": 8158,
    "start_time": "2023-06-27T19:33:48.602Z"
   },
   {
    "duration": 14,
    "start_time": "2023-06-27T19:34:09.350Z"
   },
   {
    "duration": 1293,
    "start_time": "2023-06-27T20:14:23.960Z"
   },
   {
    "duration": 13,
    "start_time": "2023-06-27T20:14:34.249Z"
   },
   {
    "duration": 149745,
    "start_time": "2023-06-27T20:15:20.804Z"
   },
   {
    "duration": 84,
    "start_time": "2023-06-27T20:20:33.938Z"
   },
   {
    "duration": 2477,
    "start_time": "2023-06-27T20:20:59.212Z"
   },
   {
    "duration": 159336,
    "start_time": "2023-06-27T20:26:53.337Z"
   },
   {
    "duration": 73,
    "start_time": "2023-06-27T20:29:55.841Z"
   },
   {
    "duration": 2133,
    "start_time": "2023-06-27T20:29:57.962Z"
   },
   {
    "duration": 7,
    "start_time": "2023-06-27T20:32:57.249Z"
   },
   {
    "duration": 14,
    "start_time": "2023-06-27T20:33:06.307Z"
   },
   {
    "duration": 106,
    "start_time": "2023-06-27T20:33:45.708Z"
   },
   {
    "duration": 141,
    "start_time": "2023-06-27T20:34:17.417Z"
   },
   {
    "duration": 135,
    "start_time": "2023-06-27T20:34:55.770Z"
   },
   {
    "duration": 127,
    "start_time": "2023-06-27T20:35:19.289Z"
   },
   {
    "duration": 253,
    "start_time": "2023-06-27T20:35:24.525Z"
   },
   {
    "duration": 211213,
    "start_time": "2023-06-27T20:35:42.105Z"
   },
   {
    "duration": 56,
    "start_time": "2023-06-27T20:39:15.621Z"
   },
   {
    "duration": 2207,
    "start_time": "2023-06-27T20:39:16.601Z"
   },
   {
    "duration": 46,
    "start_time": "2023-06-27T20:39:22.449Z"
   },
   {
    "duration": 1439,
    "start_time": "2023-06-28T21:11:52.936Z"
   },
   {
    "duration": 108,
    "start_time": "2023-06-28T21:20:19.297Z"
   },
   {
    "duration": 1830,
    "start_time": "2023-06-28T21:22:02.801Z"
   },
   {
    "duration": 119,
    "start_time": "2023-06-28T21:22:04.633Z"
   },
   {
    "duration": 50,
    "start_time": "2023-06-28T21:22:04.754Z"
   },
   {
    "duration": 23,
    "start_time": "2023-06-28T21:22:04.806Z"
   },
   {
    "duration": 1743,
    "start_time": "2023-06-28T21:22:04.833Z"
   },
   {
    "duration": 7,
    "start_time": "2023-06-28T21:22:06.577Z"
   },
   {
    "duration": 26,
    "start_time": "2023-06-28T21:22:06.586Z"
   },
   {
    "duration": 13,
    "start_time": "2023-06-28T21:22:06.614Z"
   },
   {
    "duration": 172,
    "start_time": "2023-06-28T21:22:06.628Z"
   },
   {
    "duration": 6,
    "start_time": "2023-06-28T21:22:06.801Z"
   },
   {
    "duration": 27,
    "start_time": "2023-06-28T21:22:06.808Z"
   },
   {
    "duration": 26,
    "start_time": "2023-06-28T21:22:06.837Z"
   },
   {
    "duration": 23,
    "start_time": "2023-06-28T21:22:06.864Z"
   },
   {
    "duration": 14,
    "start_time": "2023-06-28T21:22:06.890Z"
   },
   {
    "duration": 46,
    "start_time": "2023-06-28T21:22:06.905Z"
   },
   {
    "duration": 124,
    "start_time": "2023-06-28T21:22:06.953Z"
   },
   {
    "duration": 0,
    "start_time": "2023-06-28T21:22:07.078Z"
   },
   {
    "duration": 0,
    "start_time": "2023-06-28T21:22:07.079Z"
   },
   {
    "duration": 0,
    "start_time": "2023-06-28T21:22:07.080Z"
   },
   {
    "duration": 0,
    "start_time": "2023-06-28T21:22:07.081Z"
   },
   {
    "duration": 0,
    "start_time": "2023-06-28T21:22:07.081Z"
   },
   {
    "duration": 0,
    "start_time": "2023-06-28T21:22:07.082Z"
   },
   {
    "duration": 0,
    "start_time": "2023-06-28T21:22:07.083Z"
   },
   {
    "duration": 0,
    "start_time": "2023-06-28T21:22:07.083Z"
   },
   {
    "duration": 0,
    "start_time": "2023-06-28T21:22:07.084Z"
   },
   {
    "duration": 0,
    "start_time": "2023-06-28T21:22:07.085Z"
   },
   {
    "duration": 0,
    "start_time": "2023-06-28T21:22:07.085Z"
   },
   {
    "duration": 0,
    "start_time": "2023-06-28T21:22:07.087Z"
   },
   {
    "duration": 0,
    "start_time": "2023-06-28T21:22:07.088Z"
   },
   {
    "duration": 0,
    "start_time": "2023-06-28T21:22:07.099Z"
   },
   {
    "duration": 0,
    "start_time": "2023-06-28T21:22:07.101Z"
   },
   {
    "duration": 0,
    "start_time": "2023-06-28T21:22:07.102Z"
   },
   {
    "duration": 0,
    "start_time": "2023-06-28T21:22:07.103Z"
   },
   {
    "duration": 0,
    "start_time": "2023-06-28T21:22:07.104Z"
   },
   {
    "duration": 9,
    "start_time": "2023-06-28T21:24:01.914Z"
   },
   {
    "duration": 1480,
    "start_time": "2023-06-28T21:25:02.947Z"
   },
   {
    "duration": 41,
    "start_time": "2023-06-28T21:25:04.429Z"
   },
   {
    "duration": 13,
    "start_time": "2023-06-28T21:25:04.471Z"
   },
   {
    "duration": 17,
    "start_time": "2023-06-28T21:25:04.486Z"
   },
   {
    "duration": 1416,
    "start_time": "2023-06-28T21:25:04.506Z"
   },
   {
    "duration": 7,
    "start_time": "2023-06-28T21:25:05.923Z"
   },
   {
    "duration": 42,
    "start_time": "2023-06-28T21:25:05.931Z"
   },
   {
    "duration": 4,
    "start_time": "2023-06-28T21:25:05.975Z"
   },
   {
    "duration": 217,
    "start_time": "2023-06-28T21:25:05.980Z"
   },
   {
    "duration": 8,
    "start_time": "2023-06-28T21:25:06.201Z"
   },
   {
    "duration": 20,
    "start_time": "2023-06-28T21:25:06.211Z"
   },
   {
    "duration": 16,
    "start_time": "2023-06-28T21:25:06.233Z"
   },
   {
    "duration": 14,
    "start_time": "2023-06-28T21:25:06.251Z"
   },
   {
    "duration": 14,
    "start_time": "2023-06-28T21:25:06.269Z"
   },
   {
    "duration": 61,
    "start_time": "2023-06-28T21:25:06.284Z"
   },
   {
    "duration": 9,
    "start_time": "2023-06-28T21:25:06.347Z"
   },
   {
    "duration": 43,
    "start_time": "2023-06-28T21:25:06.358Z"
   },
   {
    "duration": 5,
    "start_time": "2023-06-28T21:25:06.403Z"
   },
   {
    "duration": 132,
    "start_time": "2023-06-28T21:25:06.409Z"
   },
   {
    "duration": 7269,
    "start_time": "2023-06-28T21:25:06.542Z"
   },
   {
    "duration": 11,
    "start_time": "2023-06-28T21:25:13.812Z"
   },
   {
    "duration": 1331,
    "start_time": "2023-06-28T21:25:13.825Z"
   },
   {
    "duration": 8,
    "start_time": "2023-06-28T21:25:15.158Z"
   },
   {
    "duration": 147931,
    "start_time": "2023-06-28T21:25:15.167Z"
   },
   {
    "duration": 77,
    "start_time": "2023-06-28T21:27:43.100Z"
   },
   {
    "duration": 2769,
    "start_time": "2023-06-28T21:27:43.178Z"
   },
   {
    "duration": 149317,
    "start_time": "2023-06-28T21:27:45.949Z"
   },
   {
    "duration": 63,
    "start_time": "2023-06-28T21:30:15.267Z"
   },
   {
    "duration": 1932,
    "start_time": "2023-06-28T21:30:15.332Z"
   },
   {
    "duration": 5,
    "start_time": "2023-06-28T21:30:17.265Z"
   },
   {
    "duration": 11,
    "start_time": "2023-06-28T21:30:17.271Z"
   },
   {
    "duration": 127,
    "start_time": "2023-06-28T21:30:17.283Z"
   },
   {
    "duration": 207683,
    "start_time": "2023-06-28T21:30:17.412Z"
   },
   {
    "duration": 49,
    "start_time": "2023-06-28T21:33:45.097Z"
   },
   {
    "duration": 2278,
    "start_time": "2023-06-28T21:33:45.148Z"
   },
   {
    "duration": 36,
    "start_time": "2023-06-28T21:33:47.428Z"
   },
   {
    "duration": 1812,
    "start_time": "2023-06-29T20:19:15.044Z"
   },
   {
    "duration": 114,
    "start_time": "2023-06-29T20:33:51.828Z"
   },
   {
    "duration": 9,
    "start_time": "2023-06-29T20:33:57.495Z"
   },
   {
    "duration": 2467,
    "start_time": "2023-06-29T20:34:08.446Z"
   },
   {
    "duration": 377,
    "start_time": "2023-06-29T20:34:10.916Z"
   },
   {
    "duration": 20,
    "start_time": "2023-06-29T20:34:11.315Z"
   },
   {
    "duration": 78,
    "start_time": "2023-06-29T20:34:11.337Z"
   },
   {
    "duration": 2379,
    "start_time": "2023-06-29T20:34:11.419Z"
   },
   {
    "duration": 15,
    "start_time": "2023-06-29T20:34:13.800Z"
   },
   {
    "duration": 27,
    "start_time": "2023-06-29T20:34:13.818Z"
   },
   {
    "duration": 5,
    "start_time": "2023-06-29T20:34:13.847Z"
   },
   {
    "duration": 234,
    "start_time": "2023-06-29T20:34:13.854Z"
   },
   {
    "duration": 8,
    "start_time": "2023-06-29T20:34:14.090Z"
   },
   {
    "duration": 30,
    "start_time": "2023-06-29T20:34:14.100Z"
   },
   {
    "duration": 24,
    "start_time": "2023-06-29T20:34:14.132Z"
   },
   {
    "duration": 20,
    "start_time": "2023-06-29T20:34:14.157Z"
   },
   {
    "duration": 3,
    "start_time": "2023-06-29T20:34:14.181Z"
   },
   {
    "duration": 51,
    "start_time": "2023-06-29T20:34:14.186Z"
   },
   {
    "duration": 3,
    "start_time": "2023-06-29T20:34:14.239Z"
   },
   {
    "duration": 41,
    "start_time": "2023-06-29T20:34:14.244Z"
   },
   {
    "duration": 5,
    "start_time": "2023-06-29T20:34:14.287Z"
   },
   {
    "duration": 164,
    "start_time": "2023-06-29T20:34:14.294Z"
   },
   {
    "duration": 8855,
    "start_time": "2023-06-29T20:34:14.460Z"
   },
   {
    "duration": 15,
    "start_time": "2023-06-29T20:34:23.316Z"
   },
   {
    "duration": 1441,
    "start_time": "2023-06-29T20:34:23.414Z"
   },
   {
    "duration": 12,
    "start_time": "2023-06-29T20:34:24.857Z"
   },
   {
    "duration": 167053,
    "start_time": "2023-06-29T20:34:24.871Z"
   },
   {
    "duration": 99,
    "start_time": "2023-06-29T20:37:11.925Z"
   },
   {
    "duration": 2652,
    "start_time": "2023-06-29T20:37:12.025Z"
   },
   {
    "duration": 165848,
    "start_time": "2023-06-29T20:37:14.679Z"
   },
   {
    "duration": 70,
    "start_time": "2023-06-29T20:40:00.529Z"
   },
   {
    "duration": 2312,
    "start_time": "2023-06-29T20:40:00.601Z"
   },
   {
    "duration": 0,
    "start_time": "2023-06-29T20:40:03.047Z"
   },
   {
    "duration": 0,
    "start_time": "2023-06-29T20:40:03.048Z"
   },
   {
    "duration": 0,
    "start_time": "2023-06-29T20:40:03.050Z"
   },
   {
    "duration": 0,
    "start_time": "2023-06-29T20:40:03.051Z"
   },
   {
    "duration": 0,
    "start_time": "2023-06-29T20:40:03.052Z"
   },
   {
    "duration": 0,
    "start_time": "2023-06-29T20:40:03.053Z"
   },
   {
    "duration": 0,
    "start_time": "2023-06-29T20:40:03.054Z"
   },
   {
    "duration": 0,
    "start_time": "2023-06-29T20:40:03.059Z"
   },
   {
    "duration": 0,
    "start_time": "2023-06-29T20:40:03.059Z"
   },
   {
    "duration": 1520,
    "start_time": "2023-06-29T20:40:17.886Z"
   },
   {
    "duration": 15,
    "start_time": "2023-06-29T20:40:19.434Z"
   },
   {
    "duration": 15,
    "start_time": "2023-06-29T20:40:39.799Z"
   },
   {
    "duration": 8933,
    "start_time": "2023-06-29T20:40:51.501Z"
   },
   {
    "duration": 13,
    "start_time": "2023-06-29T20:41:37.597Z"
   },
   {
    "duration": 183,
    "start_time": "2023-06-29T20:51:30.319Z"
   },
   {
    "duration": 12,
    "start_time": "2023-06-29T20:51:30.790Z"
   },
   {
    "duration": 11,
    "start_time": "2023-06-29T20:51:32.856Z"
   },
   {
    "duration": 9,
    "start_time": "2023-06-29T20:51:47.590Z"
   },
   {
    "duration": 17,
    "start_time": "2023-06-29T20:51:47.793Z"
   },
   {
    "duration": 148,
    "start_time": "2023-06-29T20:51:49.311Z"
   },
   {
    "duration": 239879,
    "start_time": "2023-06-29T20:51:49.596Z"
   },
   {
    "duration": 69,
    "start_time": "2023-06-29T20:55:49.477Z"
   },
   {
    "duration": 2623,
    "start_time": "2023-06-29T20:55:49.548Z"
   },
   {
    "duration": 51,
    "start_time": "2023-06-29T20:58:43.268Z"
   },
   {
    "duration": 14,
    "start_time": "2023-06-29T21:03:34.352Z"
   },
   {
    "duration": 113702,
    "start_time": "2023-06-29T21:05:01.045Z"
   },
   {
    "duration": 71,
    "start_time": "2023-06-29T21:07:56.471Z"
   },
   {
    "duration": 159,
    "start_time": "2023-06-29T21:16:06.486Z"
   },
   {
    "duration": 13,
    "start_time": "2023-06-29T21:24:41.267Z"
   },
   {
    "duration": 1078,
    "start_time": "2023-06-29T21:25:45.100Z"
   },
   {
    "duration": 10,
    "start_time": "2023-06-29T21:26:44.448Z"
   },
   {
    "duration": 56,
    "start_time": "2023-06-29T21:28:08.310Z"
   },
   {
    "duration": 116234,
    "start_time": "2023-06-29T21:31:11.107Z"
   },
   {
    "duration": 73,
    "start_time": "2023-06-29T21:33:12.220Z"
   },
   {
    "duration": 1189,
    "start_time": "2023-06-29T21:33:26.906Z"
   },
   {
    "duration": 74,
    "start_time": "2023-06-29T21:33:34.566Z"
   },
   {
    "duration": 1743,
    "start_time": "2023-06-30T12:03:12.261Z"
   },
   {
    "duration": 81,
    "start_time": "2023-06-30T12:03:14.005Z"
   },
   {
    "duration": 14,
    "start_time": "2023-06-30T12:03:14.087Z"
   },
   {
    "duration": 16,
    "start_time": "2023-06-30T12:03:14.104Z"
   },
   {
    "duration": 2388,
    "start_time": "2023-06-30T12:03:14.122Z"
   },
   {
    "duration": 8,
    "start_time": "2023-06-30T12:03:16.511Z"
   },
   {
    "duration": 17,
    "start_time": "2023-06-30T12:03:16.520Z"
   },
   {
    "duration": 3,
    "start_time": "2023-06-30T12:03:16.538Z"
   },
   {
    "duration": 189,
    "start_time": "2023-06-30T12:03:16.543Z"
   },
   {
    "duration": 7,
    "start_time": "2023-06-30T12:03:16.734Z"
   },
   {
    "duration": 11,
    "start_time": "2023-06-30T12:03:16.742Z"
   },
   {
    "duration": 30,
    "start_time": "2023-06-30T12:03:16.754Z"
   },
   {
    "duration": 13,
    "start_time": "2023-06-30T12:03:16.786Z"
   },
   {
    "duration": 24,
    "start_time": "2023-06-30T12:03:16.801Z"
   },
   {
    "duration": 43,
    "start_time": "2023-06-30T12:03:16.827Z"
   },
   {
    "duration": 16,
    "start_time": "2023-06-30T12:03:16.871Z"
   },
   {
    "duration": 26,
    "start_time": "2023-06-30T12:03:16.889Z"
   },
   {
    "duration": 4,
    "start_time": "2023-06-30T12:03:16.916Z"
   },
   {
    "duration": 29,
    "start_time": "2023-06-30T12:03:16.921Z"
   },
   {
    "duration": 161,
    "start_time": "2023-06-30T12:03:17.146Z"
   },
   {
    "duration": 126,
    "start_time": "2023-06-30T12:03:18.742Z"
   },
   {
    "duration": 96345,
    "start_time": "2023-06-30T12:03:24.117Z"
   },
   {
    "duration": 50,
    "start_time": "2023-06-30T12:05:00.464Z"
   },
   {
    "duration": 34,
    "start_time": "2023-06-30T12:06:13.126Z"
   }
  ],
  "kernelspec": {
   "display_name": "Python 3 (ipykernel)",
   "language": "python",
   "name": "python3"
  },
  "language_info": {
   "codemirror_mode": {
    "name": "ipython",
    "version": 3
   },
   "file_extension": ".py",
   "mimetype": "text/x-python",
   "name": "python",
   "nbconvert_exporter": "python",
   "pygments_lexer": "ipython3",
   "version": "3.11.5"
  },
  "toc": {
   "base_numbering": 1,
   "nav_menu": {},
   "number_sections": true,
   "sideBar": true,
   "skip_h1_title": true,
   "title_cell": "Содержание",
   "title_sidebar": "Contents",
   "toc_cell": true,
   "toc_position": {
    "height": "calc(100% - 180px)",
    "left": "10px",
    "top": "150px",
    "width": "281.99px"
   },
   "toc_section_display": true,
   "toc_window_display": true
  }
 },
 "nbformat": 4,
 "nbformat_minor": 2
}
